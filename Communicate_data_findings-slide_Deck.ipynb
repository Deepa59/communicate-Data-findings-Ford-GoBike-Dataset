{
 "cells": [
  {
   "cell_type": "markdown",
   "metadata": {
    "slideshow": {
     "slide_type": "slide"
    }
   },
   "source": [
    "# Analysis of Ford_GO_BIKE System"
   ]
  },
  {
   "cell_type": "markdown",
   "metadata": {
    "slideshow": {
     "slide_type": "skip"
    }
   },
   "source": [
    "### Table of contents\n",
    "\n",
    "-Introduction\n",
    "\n",
    "-Gathering Data\n",
    "\n",
    "-Assessing Data\n",
    "\n",
    "-Cleaning Data\n",
    "\n",
    "-Univariate Exploration\n",
    "\n",
    "-Bivariate Exploration\n",
    "\n",
    "-Multivariate Exploration\n"
   ]
  },
  {
   "cell_type": "markdown",
   "metadata": {
    "slideshow": {
     "slide_type": "slide"
    }
   },
   "source": [
    "## Investigation Overview\n",
    "In this investigation, I wanted to look at the customer behaviour characteristics of the bay Area bike share system. The main focus was on the time (month, weekday, hour), when bikes were high in demand."
   ]
  },
  {
   "cell_type": "markdown",
   "metadata": {
    "slideshow": {
     "slide_type": "slide"
    }
   },
   "source": [
    "## Dataset overview\n",
    "\n",
    "The Dataset is Curated with Ford GoBike's trip data for public containing approximately 1,850,000 bike rides from FY2018. The features included the trip start/end time, as well as additional variables such as user type, gender, and age."
   ]
  },
  {
   "cell_type": "markdown",
   "metadata": {
    "slideshow": {
     "slide_type": "skip"
    }
   },
   "source": [
    "### Introduction\n",
    "\n",
    "\n",
    "\n",
    "Ford GoBike is a regional public bicycle sharing system in the San Francisco Bay Area, California. Beginning operation in August 2013 as Bay Area Bike Share, the Ford GoBike system currently has over 2,600 bicycles in 262 stations across San Francisco, East Bay and San Jose. On June 28, 2017, the system officially launched as Ford GoBike in a partnership with Ford Motor Company.\n",
    "\n",
    "Ford GoBike, like other bike share systems, consists of a fleet of specially designed, sturdy and durable bikes that are locked into a network of docking stations throughout the city. The bikes can be unlocked from one station and returned to any other station in the system, making them ideal for one-way trips. The bikes are available for use 24 hours/day, 7 days/week, 365 days/year and riders have access to all bikes in the network when they become a member or purchase a pass."
   ]
  },
  {
   "cell_type": "markdown",
   "metadata": {
    "slideshow": {
     "slide_type": "skip"
    }
   },
   "source": [
    "### Preliminary Wrangling"
   ]
  },
  {
   "cell_type": "markdown",
   "metadata": {
    "slideshow": {
     "slide_type": "skip"
    }
   },
   "source": [
    "### Data Gathering"
   ]
  },
  {
   "cell_type": "code",
   "execution_count": 2,
   "metadata": {
    "slideshow": {
     "slide_type": "skip"
    }
   },
   "outputs": [],
   "source": [
    "# import all packages and set plots to be embedded inline\n",
    "import numpy as np\n",
    "import pandas as pd\n",
    "import matplotlib.pyplot as plt\n",
    "import seaborn as sb\n",
    "import datetime\n",
    "\n",
    "import glob\n",
    "import os\n",
    "\n",
    "%matplotlib inline"
   ]
  },
  {
   "cell_type": "markdown",
   "metadata": {
    "slideshow": {
     "slide_type": "skip"
    }
   },
   "source": [
    "###### Gathering involves following steps:\n",
    "\n"
   ]
  },
  {
   "cell_type": "code",
   "execution_count": 2,
   "metadata": {
    "slideshow": {
     "slide_type": "skip"
    }
   },
   "outputs": [],
   "source": [
    "#1.Downloading tripdataset.csv files from \"https://www.lyft.com/bikes/bay-wheels/system-data\" and saving them in the path specified below.\n",
    "\n",
    "path=r'C:\\Users\\deeps\\Documents\\UDACITY\\FORDGOBIKE_Dataset'\n",
    "\n",
    "files=glob.glob(os.path.join(path,\"*.csv\"))\n"
   ]
  },
  {
   "cell_type": "code",
   "execution_count": 4,
   "metadata": {
    "slideshow": {
     "slide_type": "skip"
    }
   },
   "outputs": [],
   "source": [
    "#2.concatenate all the data from the downloaded files into a single dataframe\n",
    "df = pd.concat((pd.read_csv(f) for f in files), ignore_index = True)\n"
   ]
  },
  {
   "cell_type": "code",
   "execution_count": 33,
   "metadata": {
    "slideshow": {
     "slide_type": "skip"
    }
   },
   "outputs": [],
   "source": [
    "#3.store dataframe into a csv file\n",
    "df.to_csv(r'C:\\Users\\deeps\\Documents\\UDACITY\\Data_visu\\fordgo.csv', index = False)"
   ]
  },
  {
   "cell_type": "code",
   "execution_count": 34,
   "metadata": {
    "slideshow": {
     "slide_type": "skip"
    }
   },
   "outputs": [
    {
     "data": {
      "text/html": [
       "<div>\n",
       "<style scoped>\n",
       "    .dataframe tbody tr th:only-of-type {\n",
       "        vertical-align: middle;\n",
       "    }\n",
       "\n",
       "    .dataframe tbody tr th {\n",
       "        vertical-align: top;\n",
       "    }\n",
       "\n",
       "    .dataframe thead th {\n",
       "        text-align: right;\n",
       "    }\n",
       "</style>\n",
       "<table border=\"1\" class=\"dataframe\">\n",
       "  <thead>\n",
       "    <tr style=\"text-align: right;\">\n",
       "      <th></th>\n",
       "      <th>duration_sec</th>\n",
       "      <th>start_time</th>\n",
       "      <th>end_time</th>\n",
       "      <th>start_station_id</th>\n",
       "      <th>start_station_name</th>\n",
       "      <th>start_station_latitude</th>\n",
       "      <th>start_station_longitude</th>\n",
       "      <th>end_station_id</th>\n",
       "      <th>end_station_name</th>\n",
       "      <th>end_station_latitude</th>\n",
       "      <th>end_station_longitude</th>\n",
       "      <th>bike_id</th>\n",
       "      <th>user_type</th>\n",
       "      <th>member_birth_year</th>\n",
       "      <th>member_gender</th>\n",
       "      <th>bike_share_for_all_trip</th>\n",
       "    </tr>\n",
       "  </thead>\n",
       "  <tbody>\n",
       "    <tr>\n",
       "      <th>0</th>\n",
       "      <td>75284</td>\n",
       "      <td>2018-01-31 22:52:35.2390</td>\n",
       "      <td>2018-02-01 19:47:19.8240</td>\n",
       "      <td>120.0</td>\n",
       "      <td>Mission Dolores Park</td>\n",
       "      <td>37.761420</td>\n",
       "      <td>-122.426435</td>\n",
       "      <td>285.0</td>\n",
       "      <td>Webster St at O'Farrell St</td>\n",
       "      <td>37.783521</td>\n",
       "      <td>-122.431158</td>\n",
       "      <td>2765</td>\n",
       "      <td>Subscriber</td>\n",
       "      <td>1986.0</td>\n",
       "      <td>Male</td>\n",
       "      <td>No</td>\n",
       "    </tr>\n",
       "    <tr>\n",
       "      <th>1</th>\n",
       "      <td>85422</td>\n",
       "      <td>2018-01-31 16:13:34.3510</td>\n",
       "      <td>2018-02-01 15:57:17.3100</td>\n",
       "      <td>15.0</td>\n",
       "      <td>San Francisco Ferry Building (Harry Bridges Pl...</td>\n",
       "      <td>37.795392</td>\n",
       "      <td>-122.394203</td>\n",
       "      <td>15.0</td>\n",
       "      <td>San Francisco Ferry Building (Harry Bridges Pl...</td>\n",
       "      <td>37.795392</td>\n",
       "      <td>-122.394203</td>\n",
       "      <td>2815</td>\n",
       "      <td>Customer</td>\n",
       "      <td>NaN</td>\n",
       "      <td>NaN</td>\n",
       "      <td>No</td>\n",
       "    </tr>\n",
       "    <tr>\n",
       "      <th>2</th>\n",
       "      <td>71576</td>\n",
       "      <td>2018-01-31 14:23:55.8890</td>\n",
       "      <td>2018-02-01 10:16:52.1160</td>\n",
       "      <td>304.0</td>\n",
       "      <td>Jackson St at 5th St</td>\n",
       "      <td>37.348759</td>\n",
       "      <td>-121.894798</td>\n",
       "      <td>296.0</td>\n",
       "      <td>5th St at Virginia St</td>\n",
       "      <td>37.325998</td>\n",
       "      <td>-121.877120</td>\n",
       "      <td>3039</td>\n",
       "      <td>Customer</td>\n",
       "      <td>1996.0</td>\n",
       "      <td>Male</td>\n",
       "      <td>No</td>\n",
       "    </tr>\n",
       "    <tr>\n",
       "      <th>3</th>\n",
       "      <td>61076</td>\n",
       "      <td>2018-01-31 14:53:23.5620</td>\n",
       "      <td>2018-02-01 07:51:20.5000</td>\n",
       "      <td>75.0</td>\n",
       "      <td>Market St at Franklin St</td>\n",
       "      <td>37.773793</td>\n",
       "      <td>-122.421239</td>\n",
       "      <td>47.0</td>\n",
       "      <td>4th St at Harrison St</td>\n",
       "      <td>37.780955</td>\n",
       "      <td>-122.399749</td>\n",
       "      <td>321</td>\n",
       "      <td>Customer</td>\n",
       "      <td>NaN</td>\n",
       "      <td>NaN</td>\n",
       "      <td>No</td>\n",
       "    </tr>\n",
       "    <tr>\n",
       "      <th>4</th>\n",
       "      <td>39966</td>\n",
       "      <td>2018-01-31 19:52:24.6670</td>\n",
       "      <td>2018-02-01 06:58:31.0530</td>\n",
       "      <td>74.0</td>\n",
       "      <td>Laguna St at Hayes St</td>\n",
       "      <td>37.776435</td>\n",
       "      <td>-122.426244</td>\n",
       "      <td>19.0</td>\n",
       "      <td>Post St at Kearny St</td>\n",
       "      <td>37.788975</td>\n",
       "      <td>-122.403452</td>\n",
       "      <td>617</td>\n",
       "      <td>Subscriber</td>\n",
       "      <td>1991.0</td>\n",
       "      <td>Male</td>\n",
       "      <td>No</td>\n",
       "    </tr>\n",
       "    <tr>\n",
       "      <th>5</th>\n",
       "      <td>6477</td>\n",
       "      <td>2018-01-31 22:58:44.8670</td>\n",
       "      <td>2018-02-01 00:46:41.9080</td>\n",
       "      <td>236.0</td>\n",
       "      <td>Market St at 8th St</td>\n",
       "      <td>37.803686</td>\n",
       "      <td>-122.282497</td>\n",
       "      <td>160.0</td>\n",
       "      <td>West Oakland BART Station</td>\n",
       "      <td>37.805318</td>\n",
       "      <td>-122.294837</td>\n",
       "      <td>1306</td>\n",
       "      <td>Customer</td>\n",
       "      <td>NaN</td>\n",
       "      <td>NaN</td>\n",
       "      <td>No</td>\n",
       "    </tr>\n",
       "    <tr>\n",
       "      <th>6</th>\n",
       "      <td>453</td>\n",
       "      <td>2018-01-31 23:53:53.6320</td>\n",
       "      <td>2018-02-01 00:01:26.8050</td>\n",
       "      <td>110.0</td>\n",
       "      <td>17th &amp; Folsom Street Park (17th St at Folsom St)</td>\n",
       "      <td>37.763708</td>\n",
       "      <td>-122.415204</td>\n",
       "      <td>134.0</td>\n",
       "      <td>Valencia St at 24th St</td>\n",
       "      <td>37.752428</td>\n",
       "      <td>-122.420628</td>\n",
       "      <td>3571</td>\n",
       "      <td>Subscriber</td>\n",
       "      <td>1988.0</td>\n",
       "      <td>Male</td>\n",
       "      <td>No</td>\n",
       "    </tr>\n",
       "    <tr>\n",
       "      <th>7</th>\n",
       "      <td>180</td>\n",
       "      <td>2018-01-31 23:52:09.9030</td>\n",
       "      <td>2018-01-31 23:55:10.8070</td>\n",
       "      <td>81.0</td>\n",
       "      <td>Berry St at 4th St</td>\n",
       "      <td>37.775880</td>\n",
       "      <td>-122.393170</td>\n",
       "      <td>93.0</td>\n",
       "      <td>4th St at Mission Bay Blvd S</td>\n",
       "      <td>37.770407</td>\n",
       "      <td>-122.391198</td>\n",
       "      <td>1403</td>\n",
       "      <td>Subscriber</td>\n",
       "      <td>1980.0</td>\n",
       "      <td>Male</td>\n",
       "      <td>No</td>\n",
       "    </tr>\n",
       "    <tr>\n",
       "      <th>8</th>\n",
       "      <td>996</td>\n",
       "      <td>2018-01-31 23:34:56.0040</td>\n",
       "      <td>2018-01-31 23:51:32.6740</td>\n",
       "      <td>134.0</td>\n",
       "      <td>Valencia St at 24th St</td>\n",
       "      <td>37.752428</td>\n",
       "      <td>-122.420628</td>\n",
       "      <td>4.0</td>\n",
       "      <td>Cyril Magnin St at Ellis St</td>\n",
       "      <td>37.785881</td>\n",
       "      <td>-122.408915</td>\n",
       "      <td>3675</td>\n",
       "      <td>Subscriber</td>\n",
       "      <td>1987.0</td>\n",
       "      <td>Male</td>\n",
       "      <td>Yes</td>\n",
       "    </tr>\n",
       "    <tr>\n",
       "      <th>9</th>\n",
       "      <td>825</td>\n",
       "      <td>2018-01-31 23:34:14.0270</td>\n",
       "      <td>2018-01-31 23:47:59.8090</td>\n",
       "      <td>305.0</td>\n",
       "      <td>Ryland Park</td>\n",
       "      <td>37.342725</td>\n",
       "      <td>-121.895617</td>\n",
       "      <td>317.0</td>\n",
       "      <td>San Salvador St at 9th St</td>\n",
       "      <td>37.333955</td>\n",
       "      <td>-121.877349</td>\n",
       "      <td>1453</td>\n",
       "      <td>Subscriber</td>\n",
       "      <td>1994.0</td>\n",
       "      <td>Female</td>\n",
       "      <td>Yes</td>\n",
       "    </tr>\n",
       "    <tr>\n",
       "      <th>10</th>\n",
       "      <td>1316</td>\n",
       "      <td>2018-01-31 23:24:00.4160</td>\n",
       "      <td>2018-01-31 23:45:56.8240</td>\n",
       "      <td>98.0</td>\n",
       "      <td>Valencia St at 16th St</td>\n",
       "      <td>37.765052</td>\n",
       "      <td>-122.421866</td>\n",
       "      <td>4.0</td>\n",
       "      <td>Cyril Magnin St at Ellis St</td>\n",
       "      <td>37.785881</td>\n",
       "      <td>-122.408915</td>\n",
       "      <td>1278</td>\n",
       "      <td>Customer</td>\n",
       "      <td>NaN</td>\n",
       "      <td>NaN</td>\n",
       "      <td>No</td>\n",
       "    </tr>\n",
       "    <tr>\n",
       "      <th>11</th>\n",
       "      <td>432</td>\n",
       "      <td>2018-01-31 23:34:26.4840</td>\n",
       "      <td>2018-01-31 23:41:39.2970</td>\n",
       "      <td>89.0</td>\n",
       "      <td>Division St at Potrero Ave</td>\n",
       "      <td>37.769218</td>\n",
       "      <td>-122.407646</td>\n",
       "      <td>43.0</td>\n",
       "      <td>San Francisco Public Library (Grove St at Hyde...</td>\n",
       "      <td>37.778768</td>\n",
       "      <td>-122.415929</td>\n",
       "      <td>2928</td>\n",
       "      <td>Subscriber</td>\n",
       "      <td>1993.0</td>\n",
       "      <td>Male</td>\n",
       "      <td>No</td>\n",
       "    </tr>\n",
       "    <tr>\n",
       "      <th>12</th>\n",
       "      <td>601</td>\n",
       "      <td>2018-01-31 23:29:46.8320</td>\n",
       "      <td>2018-01-31 23:39:48.0000</td>\n",
       "      <td>223.0</td>\n",
       "      <td>16th St Mission BART Station 2</td>\n",
       "      <td>37.764765</td>\n",
       "      <td>-122.420091</td>\n",
       "      <td>86.0</td>\n",
       "      <td>Market St at Dolores St</td>\n",
       "      <td>37.769305</td>\n",
       "      <td>-122.426826</td>\n",
       "      <td>3016</td>\n",
       "      <td>Subscriber</td>\n",
       "      <td>1957.0</td>\n",
       "      <td>Male</td>\n",
       "      <td>No</td>\n",
       "    </tr>\n",
       "    <tr>\n",
       "      <th>13</th>\n",
       "      <td>887</td>\n",
       "      <td>2018-01-31 23:24:16.3570</td>\n",
       "      <td>2018-01-31 23:39:04.1230</td>\n",
       "      <td>308.0</td>\n",
       "      <td>San Pedro Square</td>\n",
       "      <td>37.336802</td>\n",
       "      <td>-121.894090</td>\n",
       "      <td>297.0</td>\n",
       "      <td>Locust St at Grant St</td>\n",
       "      <td>37.322980</td>\n",
       "      <td>-121.887931</td>\n",
       "      <td>55</td>\n",
       "      <td>Subscriber</td>\n",
       "      <td>1976.0</td>\n",
       "      <td>Female</td>\n",
       "      <td>Yes</td>\n",
       "    </tr>\n",
       "    <tr>\n",
       "      <th>14</th>\n",
       "      <td>210</td>\n",
       "      <td>2018-01-31 23:33:03.0460</td>\n",
       "      <td>2018-01-31 23:36:33.7040</td>\n",
       "      <td>7.0</td>\n",
       "      <td>Frank H Ogawa Plaza</td>\n",
       "      <td>37.804562</td>\n",
       "      <td>-122.271738</td>\n",
       "      <td>186.0</td>\n",
       "      <td>Lakeside Dr at 14th St</td>\n",
       "      <td>37.801319</td>\n",
       "      <td>-122.262642</td>\n",
       "      <td>2602</td>\n",
       "      <td>Subscriber</td>\n",
       "      <td>1976.0</td>\n",
       "      <td>Male</td>\n",
       "      <td>No</td>\n",
       "    </tr>\n",
       "    <tr>\n",
       "      <th>15</th>\n",
       "      <td>188</td>\n",
       "      <td>2018-01-31 23:30:58.1360</td>\n",
       "      <td>2018-01-31 23:34:06.3910</td>\n",
       "      <td>98.0</td>\n",
       "      <td>Valencia St at 16th St</td>\n",
       "      <td>37.765052</td>\n",
       "      <td>-122.421866</td>\n",
       "      <td>76.0</td>\n",
       "      <td>McCoppin St at Valencia St</td>\n",
       "      <td>37.771662</td>\n",
       "      <td>-122.422423</td>\n",
       "      <td>2556</td>\n",
       "      <td>Subscriber</td>\n",
       "      <td>1964.0</td>\n",
       "      <td>Female</td>\n",
       "      <td>No</td>\n",
       "    </tr>\n",
       "    <tr>\n",
       "      <th>16</th>\n",
       "      <td>808</td>\n",
       "      <td>2018-01-31 23:19:58.6030</td>\n",
       "      <td>2018-01-31 23:33:27.5310</td>\n",
       "      <td>67.0</td>\n",
       "      <td>San Francisco Caltrain Station 2  (Townsend St...</td>\n",
       "      <td>37.776639</td>\n",
       "      <td>-122.395526</td>\n",
       "      <td>98.0</td>\n",
       "      <td>Valencia St at 16th St</td>\n",
       "      <td>37.765052</td>\n",
       "      <td>-122.421866</td>\n",
       "      <td>3041</td>\n",
       "      <td>Subscriber</td>\n",
       "      <td>1976.0</td>\n",
       "      <td>Male</td>\n",
       "      <td>Yes</td>\n",
       "    </tr>\n",
       "    <tr>\n",
       "      <th>17</th>\n",
       "      <td>378</td>\n",
       "      <td>2018-01-31 23:23:23.0680</td>\n",
       "      <td>2018-01-31 23:29:42.0440</td>\n",
       "      <td>80.0</td>\n",
       "      <td>Townsend St at 5th St</td>\n",
       "      <td>37.775306</td>\n",
       "      <td>-122.397380</td>\n",
       "      <td>78.0</td>\n",
       "      <td>Folsom St at 9th St</td>\n",
       "      <td>37.773717</td>\n",
       "      <td>-122.411647</td>\n",
       "      <td>546</td>\n",
       "      <td>Subscriber</td>\n",
       "      <td>1995.0</td>\n",
       "      <td>Female</td>\n",
       "      <td>No</td>\n",
       "    </tr>\n",
       "    <tr>\n",
       "      <th>18</th>\n",
       "      <td>350</td>\n",
       "      <td>2018-01-31 23:13:45.5290</td>\n",
       "      <td>2018-01-31 23:19:36.2650</td>\n",
       "      <td>247.0</td>\n",
       "      <td>Fulton St at Bancroft Way</td>\n",
       "      <td>37.867789</td>\n",
       "      <td>-122.265896</td>\n",
       "      <td>274.0</td>\n",
       "      <td>Oregon St at Adeline St</td>\n",
       "      <td>37.857567</td>\n",
       "      <td>-122.267558</td>\n",
       "      <td>431</td>\n",
       "      <td>Subscriber</td>\n",
       "      <td>NaN</td>\n",
       "      <td>NaN</td>\n",
       "      <td>No</td>\n",
       "    </tr>\n",
       "    <tr>\n",
       "      <th>19</th>\n",
       "      <td>686</td>\n",
       "      <td>2018-01-31 23:07:15.3130</td>\n",
       "      <td>2018-01-31 23:18:41.5580</td>\n",
       "      <td>312.0</td>\n",
       "      <td>San Jose Diridon Station</td>\n",
       "      <td>37.329732</td>\n",
       "      <td>-121.901782</td>\n",
       "      <td>317.0</td>\n",
       "      <td>San Salvador St at 9th St</td>\n",
       "      <td>37.333955</td>\n",
       "      <td>-121.877349</td>\n",
       "      <td>1886</td>\n",
       "      <td>Subscriber</td>\n",
       "      <td>1997.0</td>\n",
       "      <td>Female</td>\n",
       "      <td>No</td>\n",
       "    </tr>\n",
       "    <tr>\n",
       "      <th>20</th>\n",
       "      <td>450</td>\n",
       "      <td>2018-01-31 23:07:13.0630</td>\n",
       "      <td>2018-01-31 23:14:43.8140</td>\n",
       "      <td>241.0</td>\n",
       "      <td>Ashby BART Station</td>\n",
       "      <td>37.852477</td>\n",
       "      <td>-122.270213</td>\n",
       "      <td>157.0</td>\n",
       "      <td>65th St at Hollis St</td>\n",
       "      <td>37.846784</td>\n",
       "      <td>-122.291376</td>\n",
       "      <td>3583</td>\n",
       "      <td>Subscriber</td>\n",
       "      <td>1994.0</td>\n",
       "      <td>Male</td>\n",
       "      <td>No</td>\n",
       "    </tr>\n",
       "    <tr>\n",
       "      <th>21</th>\n",
       "      <td>294</td>\n",
       "      <td>2018-01-31 23:08:12.0000</td>\n",
       "      <td>2018-01-31 23:13:06.6360</td>\n",
       "      <td>239.0</td>\n",
       "      <td>Bancroft Way at Telegraph Ave</td>\n",
       "      <td>37.868813</td>\n",
       "      <td>-122.258764</td>\n",
       "      <td>244.0</td>\n",
       "      <td>Shattuck Ave at Hearst Ave</td>\n",
       "      <td>37.873792</td>\n",
       "      <td>-122.268618</td>\n",
       "      <td>2144</td>\n",
       "      <td>Subscriber</td>\n",
       "      <td>1983.0</td>\n",
       "      <td>Male</td>\n",
       "      <td>No</td>\n",
       "    </tr>\n",
       "    <tr>\n",
       "      <th>22</th>\n",
       "      <td>150</td>\n",
       "      <td>2018-01-31 23:10:09.5860</td>\n",
       "      <td>2018-01-31 23:12:40.3330</td>\n",
       "      <td>182.0</td>\n",
       "      <td>19th Street BART Station</td>\n",
       "      <td>37.809013</td>\n",
       "      <td>-122.268247</td>\n",
       "      <td>183.0</td>\n",
       "      <td>Telegraph Ave at 19th St</td>\n",
       "      <td>37.808702</td>\n",
       "      <td>-122.269927</td>\n",
       "      <td>3468</td>\n",
       "      <td>Subscriber</td>\n",
       "      <td>1945.0</td>\n",
       "      <td>Male</td>\n",
       "      <td>Yes</td>\n",
       "    </tr>\n",
       "    <tr>\n",
       "      <th>23</th>\n",
       "      <td>462</td>\n",
       "      <td>2018-01-31 23:03:48.9400</td>\n",
       "      <td>2018-01-31 23:11:31.0290</td>\n",
       "      <td>119.0</td>\n",
       "      <td>18th St at Noe St</td>\n",
       "      <td>37.761047</td>\n",
       "      <td>-122.432642</td>\n",
       "      <td>134.0</td>\n",
       "      <td>Valencia St at 24th St</td>\n",
       "      <td>37.752428</td>\n",
       "      <td>-122.420628</td>\n",
       "      <td>1432</td>\n",
       "      <td>Subscriber</td>\n",
       "      <td>1971.0</td>\n",
       "      <td>Male</td>\n",
       "      <td>Yes</td>\n",
       "    </tr>\n",
       "    <tr>\n",
       "      <th>24</th>\n",
       "      <td>379</td>\n",
       "      <td>2018-01-31 23:04:27.7010</td>\n",
       "      <td>2018-01-31 23:10:46.9760</td>\n",
       "      <td>176.0</td>\n",
       "      <td>MacArthur BART Station</td>\n",
       "      <td>37.828410</td>\n",
       "      <td>-122.266315</td>\n",
       "      <td>189.0</td>\n",
       "      <td>Genoa St at 55th St</td>\n",
       "      <td>37.839649</td>\n",
       "      <td>-122.271756</td>\n",
       "      <td>997</td>\n",
       "      <td>Subscriber</td>\n",
       "      <td>1975.0</td>\n",
       "      <td>Male</td>\n",
       "      <td>No</td>\n",
       "    </tr>\n",
       "    <tr>\n",
       "      <th>25</th>\n",
       "      <td>880</td>\n",
       "      <td>2018-01-31 22:53:41.3020</td>\n",
       "      <td>2018-01-31 23:08:21.4430</td>\n",
       "      <td>123.0</td>\n",
       "      <td>Folsom St at 19th St</td>\n",
       "      <td>37.760594</td>\n",
       "      <td>-122.414817</td>\n",
       "      <td>145.0</td>\n",
       "      <td>29th St at Church St</td>\n",
       "      <td>37.743684</td>\n",
       "      <td>-122.426806</td>\n",
       "      <td>3725</td>\n",
       "      <td>Subscriber</td>\n",
       "      <td>1986.0</td>\n",
       "      <td>Male</td>\n",
       "      <td>No</td>\n",
       "    </tr>\n",
       "    <tr>\n",
       "      <th>26</th>\n",
       "      <td>1210</td>\n",
       "      <td>2018-01-31 22:45:37.1250</td>\n",
       "      <td>2018-01-31 23:05:47.5760</td>\n",
       "      <td>285.0</td>\n",
       "      <td>Webster St at O'Farrell St</td>\n",
       "      <td>37.783521</td>\n",
       "      <td>-122.431158</td>\n",
       "      <td>133.0</td>\n",
       "      <td>Valencia St at 22nd St</td>\n",
       "      <td>37.755213</td>\n",
       "      <td>-122.420975</td>\n",
       "      <td>1059</td>\n",
       "      <td>Subscriber</td>\n",
       "      <td>1991.0</td>\n",
       "      <td>Male</td>\n",
       "      <td>No</td>\n",
       "    </tr>\n",
       "    <tr>\n",
       "      <th>27</th>\n",
       "      <td>259</td>\n",
       "      <td>2018-01-31 23:01:12.7920</td>\n",
       "      <td>2018-01-31 23:05:32.1570</td>\n",
       "      <td>239.0</td>\n",
       "      <td>Bancroft Way at Telegraph Ave</td>\n",
       "      <td>37.868813</td>\n",
       "      <td>-122.258764</td>\n",
       "      <td>266.0</td>\n",
       "      <td>Parker St at Fulton St</td>\n",
       "      <td>37.862464</td>\n",
       "      <td>-122.264791</td>\n",
       "      <td>1208</td>\n",
       "      <td>Subscriber</td>\n",
       "      <td>1994.0</td>\n",
       "      <td>Male</td>\n",
       "      <td>No</td>\n",
       "    </tr>\n",
       "    <tr>\n",
       "      <th>28</th>\n",
       "      <td>592</td>\n",
       "      <td>2018-01-31 22:53:27.7790</td>\n",
       "      <td>2018-01-31 23:03:20.2900</td>\n",
       "      <td>202.0</td>\n",
       "      <td>Washington St at 8th St</td>\n",
       "      <td>37.800754</td>\n",
       "      <td>-122.274894</td>\n",
       "      <td>195.0</td>\n",
       "      <td>Bay Pl at Vernon St</td>\n",
       "      <td>37.812314</td>\n",
       "      <td>-122.260779</td>\n",
       "      <td>1834</td>\n",
       "      <td>Customer</td>\n",
       "      <td>1978.0</td>\n",
       "      <td>Male</td>\n",
       "      <td>No</td>\n",
       "    </tr>\n",
       "    <tr>\n",
       "      <th>29</th>\n",
       "      <td>1059</td>\n",
       "      <td>2018-01-31 22:45:16.5700</td>\n",
       "      <td>2018-01-31 23:02:56.2850</td>\n",
       "      <td>141.0</td>\n",
       "      <td>Valencia St at Cesar Chavez St</td>\n",
       "      <td>37.747998</td>\n",
       "      <td>-122.420219</td>\n",
       "      <td>79.0</td>\n",
       "      <td>7th St at Brannan St</td>\n",
       "      <td>37.773492</td>\n",
       "      <td>-122.403673</td>\n",
       "      <td>1248</td>\n",
       "      <td>Subscriber</td>\n",
       "      <td>1988.0</td>\n",
       "      <td>Male</td>\n",
       "      <td>No</td>\n",
       "    </tr>\n",
       "    <tr>\n",
       "      <th>...</th>\n",
       "      <td>...</td>\n",
       "      <td>...</td>\n",
       "      <td>...</td>\n",
       "      <td>...</td>\n",
       "      <td>...</td>\n",
       "      <td>...</td>\n",
       "      <td>...</td>\n",
       "      <td>...</td>\n",
       "      <td>...</td>\n",
       "      <td>...</td>\n",
       "      <td>...</td>\n",
       "      <td>...</td>\n",
       "      <td>...</td>\n",
       "      <td>...</td>\n",
       "      <td>...</td>\n",
       "      <td>...</td>\n",
       "    </tr>\n",
       "    <tr>\n",
       "      <th>1949055</th>\n",
       "      <td>135</td>\n",
       "      <td>2019-01-01 00:37:22.9770</td>\n",
       "      <td>2019-01-01 00:39:38.3130</td>\n",
       "      <td>138.0</td>\n",
       "      <td>Jersey St at Church St</td>\n",
       "      <td>37.750900</td>\n",
       "      <td>-122.427411</td>\n",
       "      <td>145.0</td>\n",
       "      <td>29th St at Church St</td>\n",
       "      <td>37.743684</td>\n",
       "      <td>-122.426806</td>\n",
       "      <td>4940</td>\n",
       "      <td>Subscriber</td>\n",
       "      <td>1985.0</td>\n",
       "      <td>Male</td>\n",
       "      <td>No</td>\n",
       "    </tr>\n",
       "    <tr>\n",
       "      <th>1949056</th>\n",
       "      <td>1767</td>\n",
       "      <td>2019-01-01 00:08:39.6590</td>\n",
       "      <td>2019-01-01 00:38:06.8480</td>\n",
       "      <td>16.0</td>\n",
       "      <td>Steuart St at Market St</td>\n",
       "      <td>37.794130</td>\n",
       "      <td>-122.394430</td>\n",
       "      <td>115.0</td>\n",
       "      <td>Jackson Playground</td>\n",
       "      <td>37.765026</td>\n",
       "      <td>-122.398773</td>\n",
       "      <td>1705</td>\n",
       "      <td>Customer</td>\n",
       "      <td>1990.0</td>\n",
       "      <td>Male</td>\n",
       "      <td>No</td>\n",
       "    </tr>\n",
       "    <tr>\n",
       "      <th>1949057</th>\n",
       "      <td>552</td>\n",
       "      <td>2019-01-01 00:28:45.4970</td>\n",
       "      <td>2019-01-01 00:37:58.1320</td>\n",
       "      <td>23.0</td>\n",
       "      <td>The Embarcadero at Steuart St</td>\n",
       "      <td>37.791464</td>\n",
       "      <td>-122.391034</td>\n",
       "      <td>24.0</td>\n",
       "      <td>Spear St at Folsom St</td>\n",
       "      <td>37.789677</td>\n",
       "      <td>-122.390428</td>\n",
       "      <td>3346</td>\n",
       "      <td>Customer</td>\n",
       "      <td>NaN</td>\n",
       "      <td>NaN</td>\n",
       "      <td>No</td>\n",
       "    </tr>\n",
       "    <tr>\n",
       "      <th>1949058</th>\n",
       "      <td>529</td>\n",
       "      <td>2019-01-01 00:28:43.4240</td>\n",
       "      <td>2019-01-01 00:37:33.1830</td>\n",
       "      <td>23.0</td>\n",
       "      <td>The Embarcadero at Steuart St</td>\n",
       "      <td>37.791464</td>\n",
       "      <td>-122.391034</td>\n",
       "      <td>24.0</td>\n",
       "      <td>Spear St at Folsom St</td>\n",
       "      <td>37.789677</td>\n",
       "      <td>-122.390428</td>\n",
       "      <td>3062</td>\n",
       "      <td>Customer</td>\n",
       "      <td>NaN</td>\n",
       "      <td>NaN</td>\n",
       "      <td>No</td>\n",
       "    </tr>\n",
       "    <tr>\n",
       "      <th>1949059</th>\n",
       "      <td>780</td>\n",
       "      <td>2019-01-01 00:24:27.0200</td>\n",
       "      <td>2019-01-01 00:37:27.4390</td>\n",
       "      <td>109.0</td>\n",
       "      <td>17th St at Valencia St</td>\n",
       "      <td>37.763316</td>\n",
       "      <td>-122.421904</td>\n",
       "      <td>91.0</td>\n",
       "      <td>Berry St at King St</td>\n",
       "      <td>37.771762</td>\n",
       "      <td>-122.398438</td>\n",
       "      <td>4982</td>\n",
       "      <td>Subscriber</td>\n",
       "      <td>1984.0</td>\n",
       "      <td>Female</td>\n",
       "      <td>No</td>\n",
       "    </tr>\n",
       "    <tr>\n",
       "      <th>1949060</th>\n",
       "      <td>620</td>\n",
       "      <td>2019-01-01 00:26:04.6330</td>\n",
       "      <td>2019-01-01 00:36:25.4090</td>\n",
       "      <td>27.0</td>\n",
       "      <td>Beale St at Harrison St</td>\n",
       "      <td>37.788059</td>\n",
       "      <td>-122.391865</td>\n",
       "      <td>90.0</td>\n",
       "      <td>Townsend St at 7th St</td>\n",
       "      <td>37.771058</td>\n",
       "      <td>-122.402717</td>\n",
       "      <td>5373</td>\n",
       "      <td>Customer</td>\n",
       "      <td>1991.0</td>\n",
       "      <td>Male</td>\n",
       "      <td>No</td>\n",
       "    </tr>\n",
       "    <tr>\n",
       "      <th>1949061</th>\n",
       "      <td>419</td>\n",
       "      <td>2019-01-01 00:29:17.5270</td>\n",
       "      <td>2019-01-01 00:36:17.2970</td>\n",
       "      <td>44.0</td>\n",
       "      <td>Civic Center/UN Plaza BART Station (Market St ...</td>\n",
       "      <td>37.781074</td>\n",
       "      <td>-122.411738</td>\n",
       "      <td>26.0</td>\n",
       "      <td>1st St at Folsom St</td>\n",
       "      <td>37.787290</td>\n",
       "      <td>-122.394380</td>\n",
       "      <td>4654</td>\n",
       "      <td>Subscriber</td>\n",
       "      <td>1993.0</td>\n",
       "      <td>Male</td>\n",
       "      <td>No</td>\n",
       "    </tr>\n",
       "    <tr>\n",
       "      <th>1949062</th>\n",
       "      <td>325</td>\n",
       "      <td>2019-01-01 00:30:21.9750</td>\n",
       "      <td>2019-01-01 00:35:47.0920</td>\n",
       "      <td>95.0</td>\n",
       "      <td>Sanchez St at 15th St</td>\n",
       "      <td>37.766219</td>\n",
       "      <td>-122.431060</td>\n",
       "      <td>73.0</td>\n",
       "      <td>Pierce St at Haight St</td>\n",
       "      <td>37.771793</td>\n",
       "      <td>-122.433708</td>\n",
       "      <td>3034</td>\n",
       "      <td>Subscriber</td>\n",
       "      <td>1993.0</td>\n",
       "      <td>Male</td>\n",
       "      <td>No</td>\n",
       "    </tr>\n",
       "    <tr>\n",
       "      <th>1949063</th>\n",
       "      <td>922</td>\n",
       "      <td>2019-01-01 00:19:42.4100</td>\n",
       "      <td>2019-01-01 00:35:05.2420</td>\n",
       "      <td>62.0</td>\n",
       "      <td>Victoria Manalo Draves Park</td>\n",
       "      <td>37.777791</td>\n",
       "      <td>-122.406432</td>\n",
       "      <td>336.0</td>\n",
       "      <td>Potrero Ave and Mariposa St</td>\n",
       "      <td>37.763281</td>\n",
       "      <td>-122.407377</td>\n",
       "      <td>4772</td>\n",
       "      <td>Subscriber</td>\n",
       "      <td>1971.0</td>\n",
       "      <td>Female</td>\n",
       "      <td>No</td>\n",
       "    </tr>\n",
       "    <tr>\n",
       "      <th>1949064</th>\n",
       "      <td>883</td>\n",
       "      <td>2019-01-01 00:20:12.6990</td>\n",
       "      <td>2019-01-01 00:34:56.0160</td>\n",
       "      <td>71.0</td>\n",
       "      <td>Broderick St at Oak St</td>\n",
       "      <td>37.773063</td>\n",
       "      <td>-122.439078</td>\n",
       "      <td>49.0</td>\n",
       "      <td>S Park St at 3rd St</td>\n",
       "      <td>37.780760</td>\n",
       "      <td>-122.394989</td>\n",
       "      <td>5182</td>\n",
       "      <td>Subscriber</td>\n",
       "      <td>1975.0</td>\n",
       "      <td>Male</td>\n",
       "      <td>No</td>\n",
       "    </tr>\n",
       "    <tr>\n",
       "      <th>1949065</th>\n",
       "      <td>408</td>\n",
       "      <td>2019-01-01 00:28:01.5630</td>\n",
       "      <td>2019-01-01 00:34:50.2370</td>\n",
       "      <td>7.0</td>\n",
       "      <td>Frank H Ogawa Plaza</td>\n",
       "      <td>37.804562</td>\n",
       "      <td>-122.271738</td>\n",
       "      <td>179.0</td>\n",
       "      <td>Telegraph Ave at 27th St</td>\n",
       "      <td>37.816073</td>\n",
       "      <td>-122.267886</td>\n",
       "      <td>2705</td>\n",
       "      <td>Subscriber</td>\n",
       "      <td>1983.0</td>\n",
       "      <td>Male</td>\n",
       "      <td>No</td>\n",
       "    </tr>\n",
       "    <tr>\n",
       "      <th>1949066</th>\n",
       "      <td>432</td>\n",
       "      <td>2019-01-01 00:26:44.3930</td>\n",
       "      <td>2019-01-01 00:33:56.6210</td>\n",
       "      <td>23.0</td>\n",
       "      <td>The Embarcadero at Steuart St</td>\n",
       "      <td>37.791464</td>\n",
       "      <td>-122.391034</td>\n",
       "      <td>28.0</td>\n",
       "      <td>The Embarcadero at Bryant St</td>\n",
       "      <td>37.787168</td>\n",
       "      <td>-122.388098</td>\n",
       "      <td>2367</td>\n",
       "      <td>Customer</td>\n",
       "      <td>1987.0</td>\n",
       "      <td>Male</td>\n",
       "      <td>No</td>\n",
       "    </tr>\n",
       "    <tr>\n",
       "      <th>1949067</th>\n",
       "      <td>821</td>\n",
       "      <td>2019-01-01 00:18:51.3980</td>\n",
       "      <td>2019-01-01 00:32:33.1160</td>\n",
       "      <td>23.0</td>\n",
       "      <td>The Embarcadero at Steuart St</td>\n",
       "      <td>37.791464</td>\n",
       "      <td>-122.391034</td>\n",
       "      <td>79.0</td>\n",
       "      <td>7th St at Brannan St</td>\n",
       "      <td>37.773492</td>\n",
       "      <td>-122.403673</td>\n",
       "      <td>4384</td>\n",
       "      <td>Subscriber</td>\n",
       "      <td>1993.0</td>\n",
       "      <td>Male</td>\n",
       "      <td>No</td>\n",
       "    </tr>\n",
       "    <tr>\n",
       "      <th>1949068</th>\n",
       "      <td>300</td>\n",
       "      <td>2019-01-01 00:27:04.3740</td>\n",
       "      <td>2019-01-01 00:32:04.5600</td>\n",
       "      <td>23.0</td>\n",
       "      <td>The Embarcadero at Steuart St</td>\n",
       "      <td>37.791464</td>\n",
       "      <td>-122.391034</td>\n",
       "      <td>28.0</td>\n",
       "      <td>The Embarcadero at Bryant St</td>\n",
       "      <td>37.787168</td>\n",
       "      <td>-122.388098</td>\n",
       "      <td>2899</td>\n",
       "      <td>Customer</td>\n",
       "      <td>NaN</td>\n",
       "      <td>NaN</td>\n",
       "      <td>No</td>\n",
       "    </tr>\n",
       "    <tr>\n",
       "      <th>1949069</th>\n",
       "      <td>422</td>\n",
       "      <td>2019-01-01 00:24:59.2450</td>\n",
       "      <td>2019-01-01 00:32:01.7100</td>\n",
       "      <td>119.0</td>\n",
       "      <td>18th St at Noe St</td>\n",
       "      <td>37.761047</td>\n",
       "      <td>-122.432642</td>\n",
       "      <td>98.0</td>\n",
       "      <td>Valencia St at 16th St</td>\n",
       "      <td>37.765052</td>\n",
       "      <td>-122.421866</td>\n",
       "      <td>4745</td>\n",
       "      <td>Subscriber</td>\n",
       "      <td>1994.0</td>\n",
       "      <td>Male</td>\n",
       "      <td>No</td>\n",
       "    </tr>\n",
       "    <tr>\n",
       "      <th>1949070</th>\n",
       "      <td>830</td>\n",
       "      <td>2019-01-01 00:17:16.4960</td>\n",
       "      <td>2019-01-01 00:31:07.3800</td>\n",
       "      <td>23.0</td>\n",
       "      <td>The Embarcadero at Steuart St</td>\n",
       "      <td>37.791464</td>\n",
       "      <td>-122.391034</td>\n",
       "      <td>90.0</td>\n",
       "      <td>Townsend St at 7th St</td>\n",
       "      <td>37.771058</td>\n",
       "      <td>-122.402717</td>\n",
       "      <td>4983</td>\n",
       "      <td>Subscriber</td>\n",
       "      <td>1984.0</td>\n",
       "      <td>Male</td>\n",
       "      <td>No</td>\n",
       "    </tr>\n",
       "    <tr>\n",
       "      <th>1949071</th>\n",
       "      <td>842</td>\n",
       "      <td>2019-01-01 00:16:59.8030</td>\n",
       "      <td>2019-01-01 00:31:02.5000</td>\n",
       "      <td>23.0</td>\n",
       "      <td>The Embarcadero at Steuart St</td>\n",
       "      <td>37.791464</td>\n",
       "      <td>-122.391034</td>\n",
       "      <td>90.0</td>\n",
       "      <td>Townsend St at 7th St</td>\n",
       "      <td>37.771058</td>\n",
       "      <td>-122.402717</td>\n",
       "      <td>4811</td>\n",
       "      <td>Subscriber</td>\n",
       "      <td>1988.0</td>\n",
       "      <td>Female</td>\n",
       "      <td>No</td>\n",
       "    </tr>\n",
       "    <tr>\n",
       "      <th>1949072</th>\n",
       "      <td>499</td>\n",
       "      <td>2019-01-01 00:22:40.6170</td>\n",
       "      <td>2019-01-01 00:31:00.0290</td>\n",
       "      <td>24.0</td>\n",
       "      <td>Spear St at Folsom St</td>\n",
       "      <td>37.789677</td>\n",
       "      <td>-122.390428</td>\n",
       "      <td>64.0</td>\n",
       "      <td>5th St at Brannan St</td>\n",
       "      <td>37.776754</td>\n",
       "      <td>-122.399018</td>\n",
       "      <td>4657</td>\n",
       "      <td>Subscriber</td>\n",
       "      <td>1986.0</td>\n",
       "      <td>Male</td>\n",
       "      <td>Yes</td>\n",
       "    </tr>\n",
       "    <tr>\n",
       "      <th>1949073</th>\n",
       "      <td>841</td>\n",
       "      <td>2019-01-01 00:16:58.8470</td>\n",
       "      <td>2019-01-01 00:30:59.9930</td>\n",
       "      <td>23.0</td>\n",
       "      <td>The Embarcadero at Steuart St</td>\n",
       "      <td>37.791464</td>\n",
       "      <td>-122.391034</td>\n",
       "      <td>90.0</td>\n",
       "      <td>Townsend St at 7th St</td>\n",
       "      <td>37.771058</td>\n",
       "      <td>-122.402717</td>\n",
       "      <td>5357</td>\n",
       "      <td>Customer</td>\n",
       "      <td>1982.0</td>\n",
       "      <td>Male</td>\n",
       "      <td>No</td>\n",
       "    </tr>\n",
       "    <tr>\n",
       "      <th>1949074</th>\n",
       "      <td>275</td>\n",
       "      <td>2019-01-01 00:23:40.7720</td>\n",
       "      <td>2019-01-01 00:28:16.6070</td>\n",
       "      <td>196.0</td>\n",
       "      <td>Grand Ave at Perkins St</td>\n",
       "      <td>37.808894</td>\n",
       "      <td>-122.256460</td>\n",
       "      <td>200.0</td>\n",
       "      <td>2nd Ave at E 18th St</td>\n",
       "      <td>37.800214</td>\n",
       "      <td>-122.253810</td>\n",
       "      <td>4486</td>\n",
       "      <td>Subscriber</td>\n",
       "      <td>1990.0</td>\n",
       "      <td>Male</td>\n",
       "      <td>No</td>\n",
       "    </tr>\n",
       "    <tr>\n",
       "      <th>1949075</th>\n",
       "      <td>277</td>\n",
       "      <td>2019-01-01 00:23:34.4210</td>\n",
       "      <td>2019-01-01 00:28:11.9930</td>\n",
       "      <td>120.0</td>\n",
       "      <td>Mission Dolores Park</td>\n",
       "      <td>37.761420</td>\n",
       "      <td>-122.426435</td>\n",
       "      <td>98.0</td>\n",
       "      <td>Valencia St at 16th St</td>\n",
       "      <td>37.765052</td>\n",
       "      <td>-122.421866</td>\n",
       "      <td>5262</td>\n",
       "      <td>Subscriber</td>\n",
       "      <td>1993.0</td>\n",
       "      <td>Male</td>\n",
       "      <td>No</td>\n",
       "    </tr>\n",
       "    <tr>\n",
       "      <th>1949076</th>\n",
       "      <td>553</td>\n",
       "      <td>2019-01-01 00:18:03.1970</td>\n",
       "      <td>2019-01-01 00:27:16.3370</td>\n",
       "      <td>182.0</td>\n",
       "      <td>19th Street BART Station</td>\n",
       "      <td>37.809013</td>\n",
       "      <td>-122.268247</td>\n",
       "      <td>193.0</td>\n",
       "      <td>Grand Ave at Santa Clara Ave</td>\n",
       "      <td>37.812744</td>\n",
       "      <td>-122.247215</td>\n",
       "      <td>510</td>\n",
       "      <td>Subscriber</td>\n",
       "      <td>1989.0</td>\n",
       "      <td>Male</td>\n",
       "      <td>Yes</td>\n",
       "    </tr>\n",
       "    <tr>\n",
       "      <th>1949077</th>\n",
       "      <td>112</td>\n",
       "      <td>2019-01-01 00:25:23.2890</td>\n",
       "      <td>2019-01-01 00:27:15.5510</td>\n",
       "      <td>308.0</td>\n",
       "      <td>San Pedro Square</td>\n",
       "      <td>37.336802</td>\n",
       "      <td>-121.894090</td>\n",
       "      <td>308.0</td>\n",
       "      <td>San Pedro Square</td>\n",
       "      <td>37.336802</td>\n",
       "      <td>-121.894090</td>\n",
       "      <td>4002</td>\n",
       "      <td>Customer</td>\n",
       "      <td>1992.0</td>\n",
       "      <td>Male</td>\n",
       "      <td>No</td>\n",
       "    </tr>\n",
       "    <tr>\n",
       "      <th>1949078</th>\n",
       "      <td>710</td>\n",
       "      <td>2019-01-01 00:14:48.3980</td>\n",
       "      <td>2019-01-01 00:26:38.4210</td>\n",
       "      <td>163.0</td>\n",
       "      <td>Lake Merritt BART Station</td>\n",
       "      <td>37.797320</td>\n",
       "      <td>-122.265320</td>\n",
       "      <td>159.0</td>\n",
       "      <td>24th St at Market St</td>\n",
       "      <td>37.816060</td>\n",
       "      <td>-122.278244</td>\n",
       "      <td>4892</td>\n",
       "      <td>Customer</td>\n",
       "      <td>1999.0</td>\n",
       "      <td>Female</td>\n",
       "      <td>No</td>\n",
       "    </tr>\n",
       "    <tr>\n",
       "      <th>1949079</th>\n",
       "      <td>606</td>\n",
       "      <td>2019-01-01 00:14:55.9210</td>\n",
       "      <td>2019-01-01 00:25:02.2150</td>\n",
       "      <td>23.0</td>\n",
       "      <td>The Embarcadero at Steuart St</td>\n",
       "      <td>37.791464</td>\n",
       "      <td>-122.391034</td>\n",
       "      <td>91.0</td>\n",
       "      <td>Berry St at King St</td>\n",
       "      <td>37.771762</td>\n",
       "      <td>-122.398438</td>\n",
       "      <td>5112</td>\n",
       "      <td>Subscriber</td>\n",
       "      <td>1990.0</td>\n",
       "      <td>Male</td>\n",
       "      <td>No</td>\n",
       "    </tr>\n",
       "    <tr>\n",
       "      <th>1949080</th>\n",
       "      <td>390</td>\n",
       "      <td>2019-01-01 00:16:36.8450</td>\n",
       "      <td>2019-01-01 00:23:07.2530</td>\n",
       "      <td>109.0</td>\n",
       "      <td>17th St at Valencia St</td>\n",
       "      <td>37.763316</td>\n",
       "      <td>-122.421904</td>\n",
       "      <td>141.0</td>\n",
       "      <td>Valencia St at Cesar Chavez St</td>\n",
       "      <td>37.747998</td>\n",
       "      <td>-122.420219</td>\n",
       "      <td>5059</td>\n",
       "      <td>Subscriber</td>\n",
       "      <td>1986.0</td>\n",
       "      <td>Male</td>\n",
       "      <td>No</td>\n",
       "    </tr>\n",
       "    <tr>\n",
       "      <th>1949081</th>\n",
       "      <td>227</td>\n",
       "      <td>2019-01-01 00:17:40.9750</td>\n",
       "      <td>2019-01-01 00:21:28.4180</td>\n",
       "      <td>73.0</td>\n",
       "      <td>Pierce St at Haight St</td>\n",
       "      <td>37.771793</td>\n",
       "      <td>-122.433708</td>\n",
       "      <td>96.0</td>\n",
       "      <td>Dolores St at 15th St</td>\n",
       "      <td>37.766210</td>\n",
       "      <td>-122.426614</td>\n",
       "      <td>4659</td>\n",
       "      <td>Subscriber</td>\n",
       "      <td>1987.0</td>\n",
       "      <td>Male</td>\n",
       "      <td>No</td>\n",
       "    </tr>\n",
       "    <tr>\n",
       "      <th>1949082</th>\n",
       "      <td>565</td>\n",
       "      <td>2019-01-01 00:11:03.4410</td>\n",
       "      <td>2019-01-01 00:20:29.2680</td>\n",
       "      <td>269.0</td>\n",
       "      <td>Telegraph Ave at Carleton St</td>\n",
       "      <td>37.862320</td>\n",
       "      <td>-122.258801</td>\n",
       "      <td>243.0</td>\n",
       "      <td>Bancroft Way at College Ave</td>\n",
       "      <td>37.869360</td>\n",
       "      <td>-122.254337</td>\n",
       "      <td>4783</td>\n",
       "      <td>Subscriber</td>\n",
       "      <td>1998.0</td>\n",
       "      <td>Male</td>\n",
       "      <td>Yes</td>\n",
       "    </tr>\n",
       "    <tr>\n",
       "      <th>1949083</th>\n",
       "      <td>182</td>\n",
       "      <td>2019-01-01 00:09:56.2110</td>\n",
       "      <td>2019-01-01 00:12:58.7480</td>\n",
       "      <td>269.0</td>\n",
       "      <td>Telegraph Ave at Carleton St</td>\n",
       "      <td>37.862320</td>\n",
       "      <td>-122.258801</td>\n",
       "      <td>240.0</td>\n",
       "      <td>Haste St at Telegraph Ave</td>\n",
       "      <td>37.866043</td>\n",
       "      <td>-122.258804</td>\n",
       "      <td>4621</td>\n",
       "      <td>Subscriber</td>\n",
       "      <td>1999.0</td>\n",
       "      <td>Male</td>\n",
       "      <td>Yes</td>\n",
       "    </tr>\n",
       "    <tr>\n",
       "      <th>1949084</th>\n",
       "      <td>226</td>\n",
       "      <td>2019-01-01 00:07:10.5760</td>\n",
       "      <td>2019-01-01 00:10:57.1960</td>\n",
       "      <td>245.0</td>\n",
       "      <td>Downtown Berkeley BART</td>\n",
       "      <td>37.870139</td>\n",
       "      <td>-122.268422</td>\n",
       "      <td>247.0</td>\n",
       "      <td>Fulton St at Bancroft Way</td>\n",
       "      <td>37.867789</td>\n",
       "      <td>-122.265896</td>\n",
       "      <td>5117</td>\n",
       "      <td>Customer</td>\n",
       "      <td>2000.0</td>\n",
       "      <td>Male</td>\n",
       "      <td>No</td>\n",
       "    </tr>\n",
       "  </tbody>\n",
       "</table>\n",
       "<p>1949085 rows × 16 columns</p>\n",
       "</div>"
      ],
      "text/plain": [
       "         duration_sec                start_time                  end_time  \\\n",
       "0               75284  2018-01-31 22:52:35.2390  2018-02-01 19:47:19.8240   \n",
       "1               85422  2018-01-31 16:13:34.3510  2018-02-01 15:57:17.3100   \n",
       "2               71576  2018-01-31 14:23:55.8890  2018-02-01 10:16:52.1160   \n",
       "3               61076  2018-01-31 14:53:23.5620  2018-02-01 07:51:20.5000   \n",
       "4               39966  2018-01-31 19:52:24.6670  2018-02-01 06:58:31.0530   \n",
       "5                6477  2018-01-31 22:58:44.8670  2018-02-01 00:46:41.9080   \n",
       "6                 453  2018-01-31 23:53:53.6320  2018-02-01 00:01:26.8050   \n",
       "7                 180  2018-01-31 23:52:09.9030  2018-01-31 23:55:10.8070   \n",
       "8                 996  2018-01-31 23:34:56.0040  2018-01-31 23:51:32.6740   \n",
       "9                 825  2018-01-31 23:34:14.0270  2018-01-31 23:47:59.8090   \n",
       "10               1316  2018-01-31 23:24:00.4160  2018-01-31 23:45:56.8240   \n",
       "11                432  2018-01-31 23:34:26.4840  2018-01-31 23:41:39.2970   \n",
       "12                601  2018-01-31 23:29:46.8320  2018-01-31 23:39:48.0000   \n",
       "13                887  2018-01-31 23:24:16.3570  2018-01-31 23:39:04.1230   \n",
       "14                210  2018-01-31 23:33:03.0460  2018-01-31 23:36:33.7040   \n",
       "15                188  2018-01-31 23:30:58.1360  2018-01-31 23:34:06.3910   \n",
       "16                808  2018-01-31 23:19:58.6030  2018-01-31 23:33:27.5310   \n",
       "17                378  2018-01-31 23:23:23.0680  2018-01-31 23:29:42.0440   \n",
       "18                350  2018-01-31 23:13:45.5290  2018-01-31 23:19:36.2650   \n",
       "19                686  2018-01-31 23:07:15.3130  2018-01-31 23:18:41.5580   \n",
       "20                450  2018-01-31 23:07:13.0630  2018-01-31 23:14:43.8140   \n",
       "21                294  2018-01-31 23:08:12.0000  2018-01-31 23:13:06.6360   \n",
       "22                150  2018-01-31 23:10:09.5860  2018-01-31 23:12:40.3330   \n",
       "23                462  2018-01-31 23:03:48.9400  2018-01-31 23:11:31.0290   \n",
       "24                379  2018-01-31 23:04:27.7010  2018-01-31 23:10:46.9760   \n",
       "25                880  2018-01-31 22:53:41.3020  2018-01-31 23:08:21.4430   \n",
       "26               1210  2018-01-31 22:45:37.1250  2018-01-31 23:05:47.5760   \n",
       "27                259  2018-01-31 23:01:12.7920  2018-01-31 23:05:32.1570   \n",
       "28                592  2018-01-31 22:53:27.7790  2018-01-31 23:03:20.2900   \n",
       "29               1059  2018-01-31 22:45:16.5700  2018-01-31 23:02:56.2850   \n",
       "...               ...                       ...                       ...   \n",
       "1949055           135  2019-01-01 00:37:22.9770  2019-01-01 00:39:38.3130   \n",
       "1949056          1767  2019-01-01 00:08:39.6590  2019-01-01 00:38:06.8480   \n",
       "1949057           552  2019-01-01 00:28:45.4970  2019-01-01 00:37:58.1320   \n",
       "1949058           529  2019-01-01 00:28:43.4240  2019-01-01 00:37:33.1830   \n",
       "1949059           780  2019-01-01 00:24:27.0200  2019-01-01 00:37:27.4390   \n",
       "1949060           620  2019-01-01 00:26:04.6330  2019-01-01 00:36:25.4090   \n",
       "1949061           419  2019-01-01 00:29:17.5270  2019-01-01 00:36:17.2970   \n",
       "1949062           325  2019-01-01 00:30:21.9750  2019-01-01 00:35:47.0920   \n",
       "1949063           922  2019-01-01 00:19:42.4100  2019-01-01 00:35:05.2420   \n",
       "1949064           883  2019-01-01 00:20:12.6990  2019-01-01 00:34:56.0160   \n",
       "1949065           408  2019-01-01 00:28:01.5630  2019-01-01 00:34:50.2370   \n",
       "1949066           432  2019-01-01 00:26:44.3930  2019-01-01 00:33:56.6210   \n",
       "1949067           821  2019-01-01 00:18:51.3980  2019-01-01 00:32:33.1160   \n",
       "1949068           300  2019-01-01 00:27:04.3740  2019-01-01 00:32:04.5600   \n",
       "1949069           422  2019-01-01 00:24:59.2450  2019-01-01 00:32:01.7100   \n",
       "1949070           830  2019-01-01 00:17:16.4960  2019-01-01 00:31:07.3800   \n",
       "1949071           842  2019-01-01 00:16:59.8030  2019-01-01 00:31:02.5000   \n",
       "1949072           499  2019-01-01 00:22:40.6170  2019-01-01 00:31:00.0290   \n",
       "1949073           841  2019-01-01 00:16:58.8470  2019-01-01 00:30:59.9930   \n",
       "1949074           275  2019-01-01 00:23:40.7720  2019-01-01 00:28:16.6070   \n",
       "1949075           277  2019-01-01 00:23:34.4210  2019-01-01 00:28:11.9930   \n",
       "1949076           553  2019-01-01 00:18:03.1970  2019-01-01 00:27:16.3370   \n",
       "1949077           112  2019-01-01 00:25:23.2890  2019-01-01 00:27:15.5510   \n",
       "1949078           710  2019-01-01 00:14:48.3980  2019-01-01 00:26:38.4210   \n",
       "1949079           606  2019-01-01 00:14:55.9210  2019-01-01 00:25:02.2150   \n",
       "1949080           390  2019-01-01 00:16:36.8450  2019-01-01 00:23:07.2530   \n",
       "1949081           227  2019-01-01 00:17:40.9750  2019-01-01 00:21:28.4180   \n",
       "1949082           565  2019-01-01 00:11:03.4410  2019-01-01 00:20:29.2680   \n",
       "1949083           182  2019-01-01 00:09:56.2110  2019-01-01 00:12:58.7480   \n",
       "1949084           226  2019-01-01 00:07:10.5760  2019-01-01 00:10:57.1960   \n",
       "\n",
       "         start_station_id                                 start_station_name  \\\n",
       "0                   120.0                               Mission Dolores Park   \n",
       "1                    15.0  San Francisco Ferry Building (Harry Bridges Pl...   \n",
       "2                   304.0                               Jackson St at 5th St   \n",
       "3                    75.0                           Market St at Franklin St   \n",
       "4                    74.0                              Laguna St at Hayes St   \n",
       "5                   236.0                                Market St at 8th St   \n",
       "6                   110.0   17th & Folsom Street Park (17th St at Folsom St)   \n",
       "7                    81.0                                 Berry St at 4th St   \n",
       "8                   134.0                             Valencia St at 24th St   \n",
       "9                   305.0                                        Ryland Park   \n",
       "10                   98.0                             Valencia St at 16th St   \n",
       "11                   89.0                         Division St at Potrero Ave   \n",
       "12                  223.0                     16th St Mission BART Station 2   \n",
       "13                  308.0                                   San Pedro Square   \n",
       "14                    7.0                                Frank H Ogawa Plaza   \n",
       "15                   98.0                             Valencia St at 16th St   \n",
       "16                   67.0  San Francisco Caltrain Station 2  (Townsend St...   \n",
       "17                   80.0                              Townsend St at 5th St   \n",
       "18                  247.0                          Fulton St at Bancroft Way   \n",
       "19                  312.0                           San Jose Diridon Station   \n",
       "20                  241.0                                 Ashby BART Station   \n",
       "21                  239.0                      Bancroft Way at Telegraph Ave   \n",
       "22                  182.0                           19th Street BART Station   \n",
       "23                  119.0                                  18th St at Noe St   \n",
       "24                  176.0                             MacArthur BART Station   \n",
       "25                  123.0                               Folsom St at 19th St   \n",
       "26                  285.0                         Webster St at O'Farrell St   \n",
       "27                  239.0                      Bancroft Way at Telegraph Ave   \n",
       "28                  202.0                            Washington St at 8th St   \n",
       "29                  141.0                     Valencia St at Cesar Chavez St   \n",
       "...                   ...                                                ...   \n",
       "1949055             138.0                             Jersey St at Church St   \n",
       "1949056              16.0                            Steuart St at Market St   \n",
       "1949057              23.0                      The Embarcadero at Steuart St   \n",
       "1949058              23.0                      The Embarcadero at Steuart St   \n",
       "1949059             109.0                             17th St at Valencia St   \n",
       "1949060              27.0                            Beale St at Harrison St   \n",
       "1949061              44.0  Civic Center/UN Plaza BART Station (Market St ...   \n",
       "1949062              95.0                              Sanchez St at 15th St   \n",
       "1949063              62.0                        Victoria Manalo Draves Park   \n",
       "1949064              71.0                             Broderick St at Oak St   \n",
       "1949065               7.0                                Frank H Ogawa Plaza   \n",
       "1949066              23.0                      The Embarcadero at Steuart St   \n",
       "1949067              23.0                      The Embarcadero at Steuart St   \n",
       "1949068              23.0                      The Embarcadero at Steuart St   \n",
       "1949069             119.0                                  18th St at Noe St   \n",
       "1949070              23.0                      The Embarcadero at Steuart St   \n",
       "1949071              23.0                      The Embarcadero at Steuart St   \n",
       "1949072              24.0                              Spear St at Folsom St   \n",
       "1949073              23.0                      The Embarcadero at Steuart St   \n",
       "1949074             196.0                            Grand Ave at Perkins St   \n",
       "1949075             120.0                               Mission Dolores Park   \n",
       "1949076             182.0                           19th Street BART Station   \n",
       "1949077             308.0                                   San Pedro Square   \n",
       "1949078             163.0                          Lake Merritt BART Station   \n",
       "1949079              23.0                      The Embarcadero at Steuart St   \n",
       "1949080             109.0                             17th St at Valencia St   \n",
       "1949081              73.0                             Pierce St at Haight St   \n",
       "1949082             269.0                       Telegraph Ave at Carleton St   \n",
       "1949083             269.0                       Telegraph Ave at Carleton St   \n",
       "1949084             245.0                             Downtown Berkeley BART   \n",
       "\n",
       "         start_station_latitude  start_station_longitude  end_station_id  \\\n",
       "0                     37.761420              -122.426435           285.0   \n",
       "1                     37.795392              -122.394203            15.0   \n",
       "2                     37.348759              -121.894798           296.0   \n",
       "3                     37.773793              -122.421239            47.0   \n",
       "4                     37.776435              -122.426244            19.0   \n",
       "5                     37.803686              -122.282497           160.0   \n",
       "6                     37.763708              -122.415204           134.0   \n",
       "7                     37.775880              -122.393170            93.0   \n",
       "8                     37.752428              -122.420628             4.0   \n",
       "9                     37.342725              -121.895617           317.0   \n",
       "10                    37.765052              -122.421866             4.0   \n",
       "11                    37.769218              -122.407646            43.0   \n",
       "12                    37.764765              -122.420091            86.0   \n",
       "13                    37.336802              -121.894090           297.0   \n",
       "14                    37.804562              -122.271738           186.0   \n",
       "15                    37.765052              -122.421866            76.0   \n",
       "16                    37.776639              -122.395526            98.0   \n",
       "17                    37.775306              -122.397380            78.0   \n",
       "18                    37.867789              -122.265896           274.0   \n",
       "19                    37.329732              -121.901782           317.0   \n",
       "20                    37.852477              -122.270213           157.0   \n",
       "21                    37.868813              -122.258764           244.0   \n",
       "22                    37.809013              -122.268247           183.0   \n",
       "23                    37.761047              -122.432642           134.0   \n",
       "24                    37.828410              -122.266315           189.0   \n",
       "25                    37.760594              -122.414817           145.0   \n",
       "26                    37.783521              -122.431158           133.0   \n",
       "27                    37.868813              -122.258764           266.0   \n",
       "28                    37.800754              -122.274894           195.0   \n",
       "29                    37.747998              -122.420219            79.0   \n",
       "...                         ...                      ...             ...   \n",
       "1949055               37.750900              -122.427411           145.0   \n",
       "1949056               37.794130              -122.394430           115.0   \n",
       "1949057               37.791464              -122.391034            24.0   \n",
       "1949058               37.791464              -122.391034            24.0   \n",
       "1949059               37.763316              -122.421904            91.0   \n",
       "1949060               37.788059              -122.391865            90.0   \n",
       "1949061               37.781074              -122.411738            26.0   \n",
       "1949062               37.766219              -122.431060            73.0   \n",
       "1949063               37.777791              -122.406432           336.0   \n",
       "1949064               37.773063              -122.439078            49.0   \n",
       "1949065               37.804562              -122.271738           179.0   \n",
       "1949066               37.791464              -122.391034            28.0   \n",
       "1949067               37.791464              -122.391034            79.0   \n",
       "1949068               37.791464              -122.391034            28.0   \n",
       "1949069               37.761047              -122.432642            98.0   \n",
       "1949070               37.791464              -122.391034            90.0   \n",
       "1949071               37.791464              -122.391034            90.0   \n",
       "1949072               37.789677              -122.390428            64.0   \n",
       "1949073               37.791464              -122.391034            90.0   \n",
       "1949074               37.808894              -122.256460           200.0   \n",
       "1949075               37.761420              -122.426435            98.0   \n",
       "1949076               37.809013              -122.268247           193.0   \n",
       "1949077               37.336802              -121.894090           308.0   \n",
       "1949078               37.797320              -122.265320           159.0   \n",
       "1949079               37.791464              -122.391034            91.0   \n",
       "1949080               37.763316              -122.421904           141.0   \n",
       "1949081               37.771793              -122.433708            96.0   \n",
       "1949082               37.862320              -122.258801           243.0   \n",
       "1949083               37.862320              -122.258801           240.0   \n",
       "1949084               37.870139              -122.268422           247.0   \n",
       "\n",
       "                                          end_station_name  \\\n",
       "0                               Webster St at O'Farrell St   \n",
       "1        San Francisco Ferry Building (Harry Bridges Pl...   \n",
       "2                                    5th St at Virginia St   \n",
       "3                                    4th St at Harrison St   \n",
       "4                                     Post St at Kearny St   \n",
       "5                                West Oakland BART Station   \n",
       "6                                   Valencia St at 24th St   \n",
       "7                             4th St at Mission Bay Blvd S   \n",
       "8                              Cyril Magnin St at Ellis St   \n",
       "9                                San Salvador St at 9th St   \n",
       "10                             Cyril Magnin St at Ellis St   \n",
       "11       San Francisco Public Library (Grove St at Hyde...   \n",
       "12                                 Market St at Dolores St   \n",
       "13                                   Locust St at Grant St   \n",
       "14                                  Lakeside Dr at 14th St   \n",
       "15                              McCoppin St at Valencia St   \n",
       "16                                  Valencia St at 16th St   \n",
       "17                                     Folsom St at 9th St   \n",
       "18                                 Oregon St at Adeline St   \n",
       "19                               San Salvador St at 9th St   \n",
       "20                                    65th St at Hollis St   \n",
       "21                              Shattuck Ave at Hearst Ave   \n",
       "22                                Telegraph Ave at 19th St   \n",
       "23                                  Valencia St at 24th St   \n",
       "24                                     Genoa St at 55th St   \n",
       "25                                    29th St at Church St   \n",
       "26                                  Valencia St at 22nd St   \n",
       "27                                  Parker St at Fulton St   \n",
       "28                                     Bay Pl at Vernon St   \n",
       "29                                    7th St at Brannan St   \n",
       "...                                                    ...   \n",
       "1949055                               29th St at Church St   \n",
       "1949056                                 Jackson Playground   \n",
       "1949057                              Spear St at Folsom St   \n",
       "1949058                              Spear St at Folsom St   \n",
       "1949059                                Berry St at King St   \n",
       "1949060                              Townsend St at 7th St   \n",
       "1949061                                1st St at Folsom St   \n",
       "1949062                             Pierce St at Haight St   \n",
       "1949063                        Potrero Ave and Mariposa St   \n",
       "1949064                                S Park St at 3rd St   \n",
       "1949065                           Telegraph Ave at 27th St   \n",
       "1949066                       The Embarcadero at Bryant St   \n",
       "1949067                               7th St at Brannan St   \n",
       "1949068                       The Embarcadero at Bryant St   \n",
       "1949069                             Valencia St at 16th St   \n",
       "1949070                              Townsend St at 7th St   \n",
       "1949071                              Townsend St at 7th St   \n",
       "1949072                               5th St at Brannan St   \n",
       "1949073                              Townsend St at 7th St   \n",
       "1949074                               2nd Ave at E 18th St   \n",
       "1949075                             Valencia St at 16th St   \n",
       "1949076                       Grand Ave at Santa Clara Ave   \n",
       "1949077                                   San Pedro Square   \n",
       "1949078                               24th St at Market St   \n",
       "1949079                                Berry St at King St   \n",
       "1949080                     Valencia St at Cesar Chavez St   \n",
       "1949081                              Dolores St at 15th St   \n",
       "1949082                        Bancroft Way at College Ave   \n",
       "1949083                          Haste St at Telegraph Ave   \n",
       "1949084                          Fulton St at Bancroft Way   \n",
       "\n",
       "         end_station_latitude  end_station_longitude  bike_id   user_type  \\\n",
       "0                   37.783521            -122.431158     2765  Subscriber   \n",
       "1                   37.795392            -122.394203     2815    Customer   \n",
       "2                   37.325998            -121.877120     3039    Customer   \n",
       "3                   37.780955            -122.399749      321    Customer   \n",
       "4                   37.788975            -122.403452      617  Subscriber   \n",
       "5                   37.805318            -122.294837     1306    Customer   \n",
       "6                   37.752428            -122.420628     3571  Subscriber   \n",
       "7                   37.770407            -122.391198     1403  Subscriber   \n",
       "8                   37.785881            -122.408915     3675  Subscriber   \n",
       "9                   37.333955            -121.877349     1453  Subscriber   \n",
       "10                  37.785881            -122.408915     1278    Customer   \n",
       "11                  37.778768            -122.415929     2928  Subscriber   \n",
       "12                  37.769305            -122.426826     3016  Subscriber   \n",
       "13                  37.322980            -121.887931       55  Subscriber   \n",
       "14                  37.801319            -122.262642     2602  Subscriber   \n",
       "15                  37.771662            -122.422423     2556  Subscriber   \n",
       "16                  37.765052            -122.421866     3041  Subscriber   \n",
       "17                  37.773717            -122.411647      546  Subscriber   \n",
       "18                  37.857567            -122.267558      431  Subscriber   \n",
       "19                  37.333955            -121.877349     1886  Subscriber   \n",
       "20                  37.846784            -122.291376     3583  Subscriber   \n",
       "21                  37.873792            -122.268618     2144  Subscriber   \n",
       "22                  37.808702            -122.269927     3468  Subscriber   \n",
       "23                  37.752428            -122.420628     1432  Subscriber   \n",
       "24                  37.839649            -122.271756      997  Subscriber   \n",
       "25                  37.743684            -122.426806     3725  Subscriber   \n",
       "26                  37.755213            -122.420975     1059  Subscriber   \n",
       "27                  37.862464            -122.264791     1208  Subscriber   \n",
       "28                  37.812314            -122.260779     1834    Customer   \n",
       "29                  37.773492            -122.403673     1248  Subscriber   \n",
       "...                       ...                    ...      ...         ...   \n",
       "1949055             37.743684            -122.426806     4940  Subscriber   \n",
       "1949056             37.765026            -122.398773     1705    Customer   \n",
       "1949057             37.789677            -122.390428     3346    Customer   \n",
       "1949058             37.789677            -122.390428     3062    Customer   \n",
       "1949059             37.771762            -122.398438     4982  Subscriber   \n",
       "1949060             37.771058            -122.402717     5373    Customer   \n",
       "1949061             37.787290            -122.394380     4654  Subscriber   \n",
       "1949062             37.771793            -122.433708     3034  Subscriber   \n",
       "1949063             37.763281            -122.407377     4772  Subscriber   \n",
       "1949064             37.780760            -122.394989     5182  Subscriber   \n",
       "1949065             37.816073            -122.267886     2705  Subscriber   \n",
       "1949066             37.787168            -122.388098     2367    Customer   \n",
       "1949067             37.773492            -122.403673     4384  Subscriber   \n",
       "1949068             37.787168            -122.388098     2899    Customer   \n",
       "1949069             37.765052            -122.421866     4745  Subscriber   \n",
       "1949070             37.771058            -122.402717     4983  Subscriber   \n",
       "1949071             37.771058            -122.402717     4811  Subscriber   \n",
       "1949072             37.776754            -122.399018     4657  Subscriber   \n",
       "1949073             37.771058            -122.402717     5357    Customer   \n",
       "1949074             37.800214            -122.253810     4486  Subscriber   \n",
       "1949075             37.765052            -122.421866     5262  Subscriber   \n",
       "1949076             37.812744            -122.247215      510  Subscriber   \n",
       "1949077             37.336802            -121.894090     4002    Customer   \n",
       "1949078             37.816060            -122.278244     4892    Customer   \n",
       "1949079             37.771762            -122.398438     5112  Subscriber   \n",
       "1949080             37.747998            -122.420219     5059  Subscriber   \n",
       "1949081             37.766210            -122.426614     4659  Subscriber   \n",
       "1949082             37.869360            -122.254337     4783  Subscriber   \n",
       "1949083             37.866043            -122.258804     4621  Subscriber   \n",
       "1949084             37.867789            -122.265896     5117    Customer   \n",
       "\n",
       "         member_birth_year member_gender bike_share_for_all_trip  \n",
       "0                   1986.0          Male                      No  \n",
       "1                      NaN           NaN                      No  \n",
       "2                   1996.0          Male                      No  \n",
       "3                      NaN           NaN                      No  \n",
       "4                   1991.0          Male                      No  \n",
       "5                      NaN           NaN                      No  \n",
       "6                   1988.0          Male                      No  \n",
       "7                   1980.0          Male                      No  \n",
       "8                   1987.0          Male                     Yes  \n",
       "9                   1994.0        Female                     Yes  \n",
       "10                     NaN           NaN                      No  \n",
       "11                  1993.0          Male                      No  \n",
       "12                  1957.0          Male                      No  \n",
       "13                  1976.0        Female                     Yes  \n",
       "14                  1976.0          Male                      No  \n",
       "15                  1964.0        Female                      No  \n",
       "16                  1976.0          Male                     Yes  \n",
       "17                  1995.0        Female                      No  \n",
       "18                     NaN           NaN                      No  \n",
       "19                  1997.0        Female                      No  \n",
       "20                  1994.0          Male                      No  \n",
       "21                  1983.0          Male                      No  \n",
       "22                  1945.0          Male                     Yes  \n",
       "23                  1971.0          Male                     Yes  \n",
       "24                  1975.0          Male                      No  \n",
       "25                  1986.0          Male                      No  \n",
       "26                  1991.0          Male                      No  \n",
       "27                  1994.0          Male                      No  \n",
       "28                  1978.0          Male                      No  \n",
       "29                  1988.0          Male                      No  \n",
       "...                    ...           ...                     ...  \n",
       "1949055             1985.0          Male                      No  \n",
       "1949056             1990.0          Male                      No  \n",
       "1949057                NaN           NaN                      No  \n",
       "1949058                NaN           NaN                      No  \n",
       "1949059             1984.0        Female                      No  \n",
       "1949060             1991.0          Male                      No  \n",
       "1949061             1993.0          Male                      No  \n",
       "1949062             1993.0          Male                      No  \n",
       "1949063             1971.0        Female                      No  \n",
       "1949064             1975.0          Male                      No  \n",
       "1949065             1983.0          Male                      No  \n",
       "1949066             1987.0          Male                      No  \n",
       "1949067             1993.0          Male                      No  \n",
       "1949068                NaN           NaN                      No  \n",
       "1949069             1994.0          Male                      No  \n",
       "1949070             1984.0          Male                      No  \n",
       "1949071             1988.0        Female                      No  \n",
       "1949072             1986.0          Male                     Yes  \n",
       "1949073             1982.0          Male                      No  \n",
       "1949074             1990.0          Male                      No  \n",
       "1949075             1993.0          Male                      No  \n",
       "1949076             1989.0          Male                     Yes  \n",
       "1949077             1992.0          Male                      No  \n",
       "1949078             1999.0        Female                      No  \n",
       "1949079             1990.0          Male                      No  \n",
       "1949080             1986.0          Male                      No  \n",
       "1949081             1987.0          Male                      No  \n",
       "1949082             1998.0          Male                     Yes  \n",
       "1949083             1999.0          Male                     Yes  \n",
       "1949084             2000.0          Male                      No  \n",
       "\n",
       "[1949085 rows x 16 columns]"
      ]
     },
     "execution_count": 34,
     "metadata": {},
     "output_type": "execute_result"
    }
   ],
   "source": [
    "df"
   ]
  },
  {
   "cell_type": "markdown",
   "metadata": {
    "slideshow": {
     "slide_type": "skip"
    }
   },
   "source": [
    "### Assessing"
   ]
  },
  {
   "cell_type": "code",
   "execution_count": 3,
   "metadata": {
    "slideshow": {
     "slide_type": "skip"
    }
   },
   "outputs": [],
   "source": [
    "#4.Read csv back to dataframe\n",
    "ford_df = pd.read_csv('fordgo.csv')"
   ]
  },
  {
   "cell_type": "code",
   "execution_count": 4,
   "metadata": {
    "slideshow": {
     "slide_type": "skip"
    }
   },
   "outputs": [
    {
     "data": {
      "text/html": [
       "<div>\n",
       "<style scoped>\n",
       "    .dataframe tbody tr th:only-of-type {\n",
       "        vertical-align: middle;\n",
       "    }\n",
       "\n",
       "    .dataframe tbody tr th {\n",
       "        vertical-align: top;\n",
       "    }\n",
       "\n",
       "    .dataframe thead th {\n",
       "        text-align: right;\n",
       "    }\n",
       "</style>\n",
       "<table border=\"1\" class=\"dataframe\">\n",
       "  <thead>\n",
       "    <tr style=\"text-align: right;\">\n",
       "      <th></th>\n",
       "      <th>duration_sec</th>\n",
       "      <th>start_time</th>\n",
       "      <th>end_time</th>\n",
       "      <th>start_station_id</th>\n",
       "      <th>start_station_name</th>\n",
       "      <th>start_station_latitude</th>\n",
       "      <th>start_station_longitude</th>\n",
       "      <th>end_station_id</th>\n",
       "      <th>end_station_name</th>\n",
       "      <th>end_station_latitude</th>\n",
       "      <th>end_station_longitude</th>\n",
       "      <th>bike_id</th>\n",
       "      <th>user_type</th>\n",
       "      <th>member_birth_year</th>\n",
       "      <th>member_gender</th>\n",
       "      <th>bike_share_for_all_trip</th>\n",
       "    </tr>\n",
       "  </thead>\n",
       "  <tbody>\n",
       "    <tr>\n",
       "      <th>0</th>\n",
       "      <td>75284</td>\n",
       "      <td>2018-01-31 22:52:35.2390</td>\n",
       "      <td>2018-02-01 19:47:19.8240</td>\n",
       "      <td>120.0</td>\n",
       "      <td>Mission Dolores Park</td>\n",
       "      <td>37.761420</td>\n",
       "      <td>-122.426435</td>\n",
       "      <td>285.0</td>\n",
       "      <td>Webster St at O'Farrell St</td>\n",
       "      <td>37.783521</td>\n",
       "      <td>-122.431158</td>\n",
       "      <td>2765</td>\n",
       "      <td>Subscriber</td>\n",
       "      <td>1986.0</td>\n",
       "      <td>Male</td>\n",
       "      <td>No</td>\n",
       "    </tr>\n",
       "    <tr>\n",
       "      <th>1</th>\n",
       "      <td>85422</td>\n",
       "      <td>2018-01-31 16:13:34.3510</td>\n",
       "      <td>2018-02-01 15:57:17.3100</td>\n",
       "      <td>15.0</td>\n",
       "      <td>San Francisco Ferry Building (Harry Bridges Pl...</td>\n",
       "      <td>37.795392</td>\n",
       "      <td>-122.394203</td>\n",
       "      <td>15.0</td>\n",
       "      <td>San Francisco Ferry Building (Harry Bridges Pl...</td>\n",
       "      <td>37.795392</td>\n",
       "      <td>-122.394203</td>\n",
       "      <td>2815</td>\n",
       "      <td>Customer</td>\n",
       "      <td>NaN</td>\n",
       "      <td>NaN</td>\n",
       "      <td>No</td>\n",
       "    </tr>\n",
       "    <tr>\n",
       "      <th>2</th>\n",
       "      <td>71576</td>\n",
       "      <td>2018-01-31 14:23:55.8890</td>\n",
       "      <td>2018-02-01 10:16:52.1160</td>\n",
       "      <td>304.0</td>\n",
       "      <td>Jackson St at 5th St</td>\n",
       "      <td>37.348759</td>\n",
       "      <td>-121.894798</td>\n",
       "      <td>296.0</td>\n",
       "      <td>5th St at Virginia St</td>\n",
       "      <td>37.325998</td>\n",
       "      <td>-121.877120</td>\n",
       "      <td>3039</td>\n",
       "      <td>Customer</td>\n",
       "      <td>1996.0</td>\n",
       "      <td>Male</td>\n",
       "      <td>No</td>\n",
       "    </tr>\n",
       "    <tr>\n",
       "      <th>3</th>\n",
       "      <td>61076</td>\n",
       "      <td>2018-01-31 14:53:23.5620</td>\n",
       "      <td>2018-02-01 07:51:20.5000</td>\n",
       "      <td>75.0</td>\n",
       "      <td>Market St at Franklin St</td>\n",
       "      <td>37.773793</td>\n",
       "      <td>-122.421239</td>\n",
       "      <td>47.0</td>\n",
       "      <td>4th St at Harrison St</td>\n",
       "      <td>37.780955</td>\n",
       "      <td>-122.399749</td>\n",
       "      <td>321</td>\n",
       "      <td>Customer</td>\n",
       "      <td>NaN</td>\n",
       "      <td>NaN</td>\n",
       "      <td>No</td>\n",
       "    </tr>\n",
       "    <tr>\n",
       "      <th>4</th>\n",
       "      <td>39966</td>\n",
       "      <td>2018-01-31 19:52:24.6670</td>\n",
       "      <td>2018-02-01 06:58:31.0530</td>\n",
       "      <td>74.0</td>\n",
       "      <td>Laguna St at Hayes St</td>\n",
       "      <td>37.776435</td>\n",
       "      <td>-122.426244</td>\n",
       "      <td>19.0</td>\n",
       "      <td>Post St at Kearny St</td>\n",
       "      <td>37.788975</td>\n",
       "      <td>-122.403452</td>\n",
       "      <td>617</td>\n",
       "      <td>Subscriber</td>\n",
       "      <td>1991.0</td>\n",
       "      <td>Male</td>\n",
       "      <td>No</td>\n",
       "    </tr>\n",
       "  </tbody>\n",
       "</table>\n",
       "</div>"
      ],
      "text/plain": [
       "   duration_sec                start_time                  end_time  \\\n",
       "0         75284  2018-01-31 22:52:35.2390  2018-02-01 19:47:19.8240   \n",
       "1         85422  2018-01-31 16:13:34.3510  2018-02-01 15:57:17.3100   \n",
       "2         71576  2018-01-31 14:23:55.8890  2018-02-01 10:16:52.1160   \n",
       "3         61076  2018-01-31 14:53:23.5620  2018-02-01 07:51:20.5000   \n",
       "4         39966  2018-01-31 19:52:24.6670  2018-02-01 06:58:31.0530   \n",
       "\n",
       "   start_station_id                                 start_station_name  \\\n",
       "0             120.0                               Mission Dolores Park   \n",
       "1              15.0  San Francisco Ferry Building (Harry Bridges Pl...   \n",
       "2             304.0                               Jackson St at 5th St   \n",
       "3              75.0                           Market St at Franklin St   \n",
       "4              74.0                              Laguna St at Hayes St   \n",
       "\n",
       "   start_station_latitude  start_station_longitude  end_station_id  \\\n",
       "0               37.761420              -122.426435           285.0   \n",
       "1               37.795392              -122.394203            15.0   \n",
       "2               37.348759              -121.894798           296.0   \n",
       "3               37.773793              -122.421239            47.0   \n",
       "4               37.776435              -122.426244            19.0   \n",
       "\n",
       "                                    end_station_name  end_station_latitude  \\\n",
       "0                         Webster St at O'Farrell St             37.783521   \n",
       "1  San Francisco Ferry Building (Harry Bridges Pl...             37.795392   \n",
       "2                              5th St at Virginia St             37.325998   \n",
       "3                              4th St at Harrison St             37.780955   \n",
       "4                               Post St at Kearny St             37.788975   \n",
       "\n",
       "   end_station_longitude  bike_id   user_type  member_birth_year  \\\n",
       "0            -122.431158     2765  Subscriber             1986.0   \n",
       "1            -122.394203     2815    Customer                NaN   \n",
       "2            -121.877120     3039    Customer             1996.0   \n",
       "3            -122.399749      321    Customer                NaN   \n",
       "4            -122.403452      617  Subscriber             1991.0   \n",
       "\n",
       "  member_gender bike_share_for_all_trip  \n",
       "0          Male                      No  \n",
       "1           NaN                      No  \n",
       "2          Male                      No  \n",
       "3           NaN                      No  \n",
       "4          Male                      No  "
      ]
     },
     "execution_count": 4,
     "metadata": {},
     "output_type": "execute_result"
    }
   ],
   "source": [
    "ford_df.head()"
   ]
  },
  {
   "cell_type": "code",
   "execution_count": 7,
   "metadata": {
    "slideshow": {
     "slide_type": "skip"
    }
   },
   "outputs": [
    {
     "data": {
      "text/plain": [
       "(1949085, 16)"
      ]
     },
     "execution_count": 7,
     "metadata": {},
     "output_type": "execute_result"
    }
   ],
   "source": [
    "ford_df.shape"
   ]
  },
  {
   "cell_type": "code",
   "execution_count": 5,
   "metadata": {
    "slideshow": {
     "slide_type": "skip"
    }
   },
   "outputs": [
    {
     "data": {
      "text/plain": [
       "duration_sec                 int64\n",
       "start_time                  object\n",
       "end_time                    object\n",
       "start_station_id           float64\n",
       "start_station_name          object\n",
       "start_station_latitude     float64\n",
       "start_station_longitude    float64\n",
       "end_station_id             float64\n",
       "end_station_name            object\n",
       "end_station_latitude       float64\n",
       "end_station_longitude      float64\n",
       "bike_id                      int64\n",
       "user_type                   object\n",
       "member_birth_year          float64\n",
       "member_gender               object\n",
       "bike_share_for_all_trip     object\n",
       "dtype: object"
      ]
     },
     "execution_count": 5,
     "metadata": {},
     "output_type": "execute_result"
    }
   ],
   "source": [
    "ford_df.dtypes"
   ]
  },
  {
   "cell_type": "code",
   "execution_count": 6,
   "metadata": {
    "slideshow": {
     "slide_type": "skip"
    }
   },
   "outputs": [
    {
     "name": "stdout",
     "output_type": "stream",
     "text": [
      "<class 'pandas.core.frame.DataFrame'>\n",
      "RangeIndex: 1949085 entries, 0 to 1949084\n",
      "Data columns (total 16 columns):\n",
      "duration_sec               1949085 non-null int64\n",
      "start_time                 1949085 non-null object\n",
      "end_time                   1949085 non-null object\n",
      "start_station_id           1937066 non-null float64\n",
      "start_station_name         1937066 non-null object\n",
      "start_station_latitude     1949085 non-null float64\n",
      "start_station_longitude    1949085 non-null float64\n",
      "end_station_id             1937066 non-null float64\n",
      "end_station_name           1937066 non-null object\n",
      "end_station_latitude       1949085 non-null float64\n",
      "end_station_longitude      1949085 non-null float64\n",
      "bike_id                    1949085 non-null int64\n",
      "user_type                  1949085 non-null object\n",
      "member_birth_year          1836739 non-null float64\n",
      "member_gender              1837057 non-null object\n",
      "bike_share_for_all_trip    1949085 non-null object\n",
      "dtypes: float64(7), int64(2), object(7)\n",
      "memory usage: 237.9+ MB\n"
     ]
    }
   ],
   "source": [
    "# Let's take a peak into the data's basic information\n",
    "ford_df.info(verbose=True,null_counts=True)"
   ]
  },
  {
   "cell_type": "code",
   "execution_count": 7,
   "metadata": {
    "slideshow": {
     "slide_type": "skip"
    }
   },
   "outputs": [
    {
     "data": {
      "text/plain": [
       "0"
      ]
     },
     "execution_count": 7,
     "metadata": {},
     "output_type": "execute_result"
    }
   ],
   "source": [
    "# Any duplicates?\n",
    "sum(ford_df.duplicated())"
   ]
  },
  {
   "cell_type": "code",
   "execution_count": 8,
   "metadata": {
    "slideshow": {
     "slide_type": "skip"
    }
   },
   "outputs": [
    {
     "data": {
      "text/plain": [
       "duration_sec                    0\n",
       "start_time                      0\n",
       "end_time                        0\n",
       "start_station_id            12019\n",
       "start_station_name          12019\n",
       "start_station_latitude          0\n",
       "start_station_longitude         0\n",
       "end_station_id              12019\n",
       "end_station_name            12019\n",
       "end_station_latitude            0\n",
       "end_station_longitude           0\n",
       "bike_id                         0\n",
       "user_type                       0\n",
       "member_birth_year          112346\n",
       "member_gender              112028\n",
       "bike_share_for_all_trip         0\n",
       "dtype: int64"
      ]
     },
     "execution_count": 8,
     "metadata": {},
     "output_type": "execute_result"
    }
   ],
   "source": [
    "# What about NaN values?\n",
    "ford_df.isna().sum()"
   ]
  },
  {
   "cell_type": "code",
   "execution_count": 9,
   "metadata": {
    "slideshow": {
     "slide_type": "skip"
    }
   },
   "outputs": [
    {
     "data": {
      "text/html": [
       "<div>\n",
       "<style scoped>\n",
       "    .dataframe tbody tr th:only-of-type {\n",
       "        vertical-align: middle;\n",
       "    }\n",
       "\n",
       "    .dataframe tbody tr th {\n",
       "        vertical-align: top;\n",
       "    }\n",
       "\n",
       "    .dataframe thead th {\n",
       "        text-align: right;\n",
       "    }\n",
       "</style>\n",
       "<table border=\"1\" class=\"dataframe\">\n",
       "  <thead>\n",
       "    <tr style=\"text-align: right;\">\n",
       "      <th></th>\n",
       "      <th>duration_sec</th>\n",
       "      <th>start_station_id</th>\n",
       "      <th>start_station_latitude</th>\n",
       "      <th>start_station_longitude</th>\n",
       "      <th>end_station_id</th>\n",
       "      <th>end_station_latitude</th>\n",
       "      <th>end_station_longitude</th>\n",
       "      <th>bike_id</th>\n",
       "      <th>member_birth_year</th>\n",
       "    </tr>\n",
       "  </thead>\n",
       "  <tbody>\n",
       "    <tr>\n",
       "      <th>count</th>\n",
       "      <td>1.949085e+06</td>\n",
       "      <td>1.937066e+06</td>\n",
       "      <td>1.949085e+06</td>\n",
       "      <td>1.949085e+06</td>\n",
       "      <td>1.937066e+06</td>\n",
       "      <td>1.949085e+06</td>\n",
       "      <td>1.949085e+06</td>\n",
       "      <td>1.949085e+06</td>\n",
       "      <td>1.836739e+06</td>\n",
       "    </tr>\n",
       "    <tr>\n",
       "      <th>mean</th>\n",
       "      <td>8.456523e+02</td>\n",
       "      <td>1.214133e+02</td>\n",
       "      <td>3.776742e+01</td>\n",
       "      <td>-1.223499e+02</td>\n",
       "      <td>1.199423e+02</td>\n",
       "      <td>3.776754e+01</td>\n",
       "      <td>-1.223494e+02</td>\n",
       "      <td>2.482837e+03</td>\n",
       "      <td>1.983276e+03</td>\n",
       "    </tr>\n",
       "    <tr>\n",
       "      <th>std</th>\n",
       "      <td>2.293484e+03</td>\n",
       "      <td>1.017502e+02</td>\n",
       "      <td>1.046207e-01</td>\n",
       "      <td>1.629799e-01</td>\n",
       "      <td>1.017857e+02</td>\n",
       "      <td>1.045042e-01</td>\n",
       "      <td>1.625904e-01</td>\n",
       "      <td>1.421408e+03</td>\n",
       "      <td>1.038252e+01</td>\n",
       "    </tr>\n",
       "    <tr>\n",
       "      <th>min</th>\n",
       "      <td>6.100000e+01</td>\n",
       "      <td>3.000000e+00</td>\n",
       "      <td>3.726331e+01</td>\n",
       "      <td>-1.224737e+02</td>\n",
       "      <td>3.000000e+00</td>\n",
       "      <td>3.726331e+01</td>\n",
       "      <td>-1.224737e+02</td>\n",
       "      <td>1.100000e+01</td>\n",
       "      <td>1.881000e+03</td>\n",
       "    </tr>\n",
       "    <tr>\n",
       "      <th>25%</th>\n",
       "      <td>3.480000e+02</td>\n",
       "      <td>3.500000e+01</td>\n",
       "      <td>3.777106e+01</td>\n",
       "      <td>-1.224116e+02</td>\n",
       "      <td>3.000000e+01</td>\n",
       "      <td>3.777106e+01</td>\n",
       "      <td>-1.224099e+02</td>\n",
       "      <td>1.313000e+03</td>\n",
       "      <td>1.978000e+03</td>\n",
       "    </tr>\n",
       "    <tr>\n",
       "      <th>50%</th>\n",
       "      <td>5.530000e+02</td>\n",
       "      <td>9.000000e+01</td>\n",
       "      <td>3.778107e+01</td>\n",
       "      <td>-1.223974e+02</td>\n",
       "      <td>8.900000e+01</td>\n",
       "      <td>3.778107e+01</td>\n",
       "      <td>-1.223971e+02</td>\n",
       "      <td>2.502000e+03</td>\n",
       "      <td>1.986000e+03</td>\n",
       "    </tr>\n",
       "    <tr>\n",
       "      <th>75%</th>\n",
       "      <td>8.670000e+02</td>\n",
       "      <td>1.900000e+02</td>\n",
       "      <td>3.779625e+01</td>\n",
       "      <td>-1.222876e+02</td>\n",
       "      <td>1.880000e+02</td>\n",
       "      <td>3.779728e+01</td>\n",
       "      <td>-1.222894e+02</td>\n",
       "      <td>3.552000e+03</td>\n",
       "      <td>1.991000e+03</td>\n",
       "    </tr>\n",
       "    <tr>\n",
       "      <th>max</th>\n",
       "      <td>8.628100e+04</td>\n",
       "      <td>3.850000e+02</td>\n",
       "      <td>4.551000e+01</td>\n",
       "      <td>-7.357000e+01</td>\n",
       "      <td>3.850000e+02</td>\n",
       "      <td>4.551000e+01</td>\n",
       "      <td>-7.357000e+01</td>\n",
       "      <td>6.638000e+03</td>\n",
       "      <td>2.001000e+03</td>\n",
       "    </tr>\n",
       "  </tbody>\n",
       "</table>\n",
       "</div>"
      ],
      "text/plain": [
       "       duration_sec  start_station_id  start_station_latitude  \\\n",
       "count  1.949085e+06      1.937066e+06            1.949085e+06   \n",
       "mean   8.456523e+02      1.214133e+02            3.776742e+01   \n",
       "std    2.293484e+03      1.017502e+02            1.046207e-01   \n",
       "min    6.100000e+01      3.000000e+00            3.726331e+01   \n",
       "25%    3.480000e+02      3.500000e+01            3.777106e+01   \n",
       "50%    5.530000e+02      9.000000e+01            3.778107e+01   \n",
       "75%    8.670000e+02      1.900000e+02            3.779625e+01   \n",
       "max    8.628100e+04      3.850000e+02            4.551000e+01   \n",
       "\n",
       "       start_station_longitude  end_station_id  end_station_latitude  \\\n",
       "count             1.949085e+06    1.937066e+06          1.949085e+06   \n",
       "mean             -1.223499e+02    1.199423e+02          3.776754e+01   \n",
       "std               1.629799e-01    1.017857e+02          1.045042e-01   \n",
       "min              -1.224737e+02    3.000000e+00          3.726331e+01   \n",
       "25%              -1.224116e+02    3.000000e+01          3.777106e+01   \n",
       "50%              -1.223974e+02    8.900000e+01          3.778107e+01   \n",
       "75%              -1.222876e+02    1.880000e+02          3.779728e+01   \n",
       "max              -7.357000e+01    3.850000e+02          4.551000e+01   \n",
       "\n",
       "       end_station_longitude       bike_id  member_birth_year  \n",
       "count           1.949085e+06  1.949085e+06       1.836739e+06  \n",
       "mean           -1.223494e+02  2.482837e+03       1.983276e+03  \n",
       "std             1.625904e-01  1.421408e+03       1.038252e+01  \n",
       "min            -1.224737e+02  1.100000e+01       1.881000e+03  \n",
       "25%            -1.224099e+02  1.313000e+03       1.978000e+03  \n",
       "50%            -1.223971e+02  2.502000e+03       1.986000e+03  \n",
       "75%            -1.222894e+02  3.552000e+03       1.991000e+03  \n",
       "max            -7.357000e+01  6.638000e+03       2.001000e+03  "
      ]
     },
     "execution_count": 9,
     "metadata": {},
     "output_type": "execute_result"
    }
   ],
   "source": [
    "ford_df.describe()\n"
   ]
  },
  {
   "cell_type": "markdown",
   "metadata": {
    "slideshow": {
     "slide_type": "skip"
    }
   },
   "source": [
    "### Quality issues:\n",
    "\n",
    "1.Datatypes issues\n",
    "\n",
    "a) Start_time and end_time are to be converted to timestamps.\n",
    "b) user type, gender and bike_share_for_all_trip can be set to category\n",
    "c)bike id, start_station_id, end_station_id can be set to object\n",
    "\n",
    "2.Delete values where the station id ,start_station_name, end_Stattion_name is null\n",
    "\n",
    "3.Member birthdates have a few inaccurate values(dates prior to 1900)\n",
    "\n",
    "4.we can calculate the age of the user\n",
    "\n",
    "5.we can further enhance the dataset with more details about the time like month, day, hour, weekday\n",
    "\n",
    "6.Remove age outilers.\n",
    "\n",
    "7.add a new column \"season\" segregating based on start_month.\n",
    "\n",
    "\n",
    "\n",
    "Dataset is tidy hence no tidiness issues."
   ]
  },
  {
   "cell_type": "markdown",
   "metadata": {
    "slideshow": {
     "slide_type": "skip"
    }
   },
   "source": [
    "### Cleaning"
   ]
  },
  {
   "cell_type": "code",
   "execution_count": 10,
   "metadata": {
    "slideshow": {
     "slide_type": "skip"
    }
   },
   "outputs": [],
   "source": [
    "#create copies of original dataframe\n",
    "ford_df_clean=ford_df.copy()"
   ]
  },
  {
   "cell_type": "markdown",
   "metadata": {
    "slideshow": {
     "slide_type": "skip"
    }
   },
   "source": [
    "#### Define"
   ]
  },
  {
   "cell_type": "markdown",
   "metadata": {
    "slideshow": {
     "slide_type": "skip"
    }
   },
   "source": [
    "###### Handle Datatypes issue"
   ]
  },
  {
   "cell_type": "markdown",
   "metadata": {
    "slideshow": {
     "slide_type": "skip"
    }
   },
   "source": [
    "#### code"
   ]
  },
  {
   "cell_type": "code",
   "execution_count": 11,
   "metadata": {
    "slideshow": {
     "slide_type": "skip"
    }
   },
   "outputs": [],
   "source": [
    "#convert start_time and end_time to timestamps\n",
    "ford_df_clean.start_time=pd.to_datetime(ford_df_clean.start_time)\n",
    "ford_df_clean.end_time=pd.to_datetime(ford_df_clean.end_time)"
   ]
  },
  {
   "cell_type": "code",
   "execution_count": 12,
   "metadata": {
    "slideshow": {
     "slide_type": "skip"
    }
   },
   "outputs": [],
   "source": [
    "# set user type, gender and bike_share_for_all_trip to category\n",
    "ford_df_clean.user_type=ford_df_clean.user_type.astype('category')\n",
    "ford_df_clean.member_gender=ford_df_clean.member_gender.astype('category')\n",
    "ford_df_clean.bike_share_for_all_trip=ford_df_clean.bike_share_for_all_trip.astype('category')"
   ]
  },
  {
   "cell_type": "code",
   "execution_count": 13,
   "metadata": {
    "slideshow": {
     "slide_type": "skip"
    }
   },
   "outputs": [],
   "source": [
    "# set bike id, start_station_id, end_station_id to object(str)\n",
    "ford_df_clean.bike_id=ford_df.bike_id.astype('str')\n",
    "ford_df_clean.start_station_id=ford_df.start_station_id.astype('str')\n",
    "ford_df_clean.end_station_id=ford_df.end_station_id.astype('str')"
   ]
  },
  {
   "cell_type": "markdown",
   "metadata": {
    "slideshow": {
     "slide_type": "skip"
    }
   },
   "source": [
    "#### Test"
   ]
  },
  {
   "cell_type": "code",
   "execution_count": 14,
   "metadata": {
    "slideshow": {
     "slide_type": "skip"
    }
   },
   "outputs": [
    {
     "data": {
      "text/plain": [
       "duration_sec                        int64\n",
       "start_time                 datetime64[ns]\n",
       "end_time                   datetime64[ns]\n",
       "start_station_id                   object\n",
       "start_station_name                 object\n",
       "start_station_latitude            float64\n",
       "start_station_longitude           float64\n",
       "end_station_id                     object\n",
       "end_station_name                   object\n",
       "end_station_latitude              float64\n",
       "end_station_longitude             float64\n",
       "bike_id                            object\n",
       "user_type                        category\n",
       "member_birth_year                 float64\n",
       "member_gender                    category\n",
       "bike_share_for_all_trip          category\n",
       "dtype: object"
      ]
     },
     "execution_count": 14,
     "metadata": {},
     "output_type": "execute_result"
    }
   ],
   "source": [
    "ford_df_clean.dtypes"
   ]
  },
  {
   "cell_type": "markdown",
   "metadata": {
    "slideshow": {
     "slide_type": "skip"
    }
   },
   "source": [
    "### Define"
   ]
  },
  {
   "cell_type": "markdown",
   "metadata": {
    "slideshow": {
     "slide_type": "skip"
    }
   },
   "source": [
    "Remove NANs from start_Station_id,start_station_name,end_Station_name columns"
   ]
  },
  {
   "cell_type": "markdown",
   "metadata": {
    "slideshow": {
     "slide_type": "skip"
    }
   },
   "source": [
    "#### Code"
   ]
  },
  {
   "cell_type": "code",
   "execution_count": 15,
   "metadata": {
    "slideshow": {
     "slide_type": "skip"
    }
   },
   "outputs": [],
   "source": [
    "ford_df_clean.dropna(subset=['start_station_id','start_station_name','end_station_name'],inplace=True)"
   ]
  },
  {
   "cell_type": "markdown",
   "metadata": {
    "slideshow": {
     "slide_type": "skip"
    }
   },
   "source": [
    "#### Test"
   ]
  },
  {
   "cell_type": "code",
   "execution_count": 16,
   "metadata": {
    "slideshow": {
     "slide_type": "skip"
    }
   },
   "outputs": [
    {
     "data": {
      "text/plain": [
       "duration_sec                    0\n",
       "start_time                      0\n",
       "end_time                        0\n",
       "start_station_id                0\n",
       "start_station_name              0\n",
       "start_station_latitude          0\n",
       "start_station_longitude         0\n",
       "end_station_id                  0\n",
       "end_station_name                0\n",
       "end_station_latitude            0\n",
       "end_station_longitude           0\n",
       "bike_id                         0\n",
       "user_type                       0\n",
       "member_birth_year          112014\n",
       "member_gender              111696\n",
       "bike_share_for_all_trip         0\n",
       "dtype: int64"
      ]
     },
     "execution_count": 16,
     "metadata": {},
     "output_type": "execute_result"
    }
   ],
   "source": [
    "ford_df_clean.isna().sum()"
   ]
  },
  {
   "cell_type": "markdown",
   "metadata": {
    "slideshow": {
     "slide_type": "skip"
    }
   },
   "source": [
    "#### Define"
   ]
  },
  {
   "cell_type": "markdown",
   "metadata": {
    "slideshow": {
     "slide_type": "skip"
    }
   },
   "source": [
    "###### enhance the dataset with more details about the time like month, day, hour, weekday\n"
   ]
  },
  {
   "cell_type": "code",
   "execution_count": 17,
   "metadata": {
    "slideshow": {
     "slide_type": "skip"
    }
   },
   "outputs": [],
   "source": [
    "# extract start time month name\n",
    "ford_df_clean['start_time_month_name']=ford_df_clean['start_time'].dt.strftime('%B')\n"
   ]
  },
  {
   "cell_type": "code",
   "execution_count": 18,
   "metadata": {
    "slideshow": {
     "slide_type": "skip"
    }
   },
   "outputs": [],
   "source": [
    "# extract start time month number\n",
    "ford_df_clean['start_time_month']=ford_df_clean['start_time'].dt.month.astype(int)"
   ]
  },
  {
   "cell_type": "code",
   "execution_count": 19,
   "metadata": {
    "slideshow": {
     "slide_type": "skip"
    }
   },
   "outputs": [],
   "source": [
    "# extract start time weekdays\n",
    "ford_df_clean['start_time_weekday']=ford_df_clean['start_time'].dt.strftime('%a')"
   ]
  },
  {
   "cell_type": "code",
   "execution_count": 20,
   "metadata": {
    "slideshow": {
     "slide_type": "skip"
    }
   },
   "outputs": [],
   "source": [
    "# extract start time weekdays\n",
    "ford_df_clean['start_time_weekday']=ford_df_clean['start_time'].dt.strftime('%a')"
   ]
  },
  {
   "cell_type": "code",
   "execution_count": 21,
   "metadata": {
    "slideshow": {
     "slide_type": "skip"
    }
   },
   "outputs": [],
   "source": [
    "# extract start time hour\n",
    "ford_df_clean['start_time_hour']=ford_df_clean['start_time'].dt.hour"
   ]
  },
  {
   "cell_type": "markdown",
   "metadata": {
    "slideshow": {
     "slide_type": "skip"
    }
   },
   "source": [
    "#### Test"
   ]
  },
  {
   "cell_type": "code",
   "execution_count": 22,
   "metadata": {
    "slideshow": {
     "slide_type": "skip"
    }
   },
   "outputs": [
    {
     "data": {
      "text/html": [
       "<div>\n",
       "<style scoped>\n",
       "    .dataframe tbody tr th:only-of-type {\n",
       "        vertical-align: middle;\n",
       "    }\n",
       "\n",
       "    .dataframe tbody tr th {\n",
       "        vertical-align: top;\n",
       "    }\n",
       "\n",
       "    .dataframe thead th {\n",
       "        text-align: right;\n",
       "    }\n",
       "</style>\n",
       "<table border=\"1\" class=\"dataframe\">\n",
       "  <thead>\n",
       "    <tr style=\"text-align: right;\">\n",
       "      <th></th>\n",
       "      <th>duration_sec</th>\n",
       "      <th>start_time</th>\n",
       "      <th>end_time</th>\n",
       "      <th>start_station_id</th>\n",
       "      <th>start_station_name</th>\n",
       "      <th>start_station_latitude</th>\n",
       "      <th>start_station_longitude</th>\n",
       "      <th>end_station_id</th>\n",
       "      <th>end_station_name</th>\n",
       "      <th>end_station_latitude</th>\n",
       "      <th>end_station_longitude</th>\n",
       "      <th>bike_id</th>\n",
       "      <th>user_type</th>\n",
       "      <th>member_birth_year</th>\n",
       "      <th>member_gender</th>\n",
       "      <th>bike_share_for_all_trip</th>\n",
       "      <th>start_time_month_name</th>\n",
       "      <th>start_time_month</th>\n",
       "      <th>start_time_weekday</th>\n",
       "      <th>start_time_hour</th>\n",
       "    </tr>\n",
       "  </thead>\n",
       "  <tbody>\n",
       "    <tr>\n",
       "      <th>0</th>\n",
       "      <td>75284</td>\n",
       "      <td>2018-01-31 22:52:35.239</td>\n",
       "      <td>2018-02-01 19:47:19.824</td>\n",
       "      <td>120.0</td>\n",
       "      <td>Mission Dolores Park</td>\n",
       "      <td>37.761420</td>\n",
       "      <td>-122.426435</td>\n",
       "      <td>285.0</td>\n",
       "      <td>Webster St at O'Farrell St</td>\n",
       "      <td>37.783521</td>\n",
       "      <td>-122.431158</td>\n",
       "      <td>2765</td>\n",
       "      <td>Subscriber</td>\n",
       "      <td>1986.0</td>\n",
       "      <td>Male</td>\n",
       "      <td>No</td>\n",
       "      <td>January</td>\n",
       "      <td>1</td>\n",
       "      <td>Wed</td>\n",
       "      <td>22</td>\n",
       "    </tr>\n",
       "    <tr>\n",
       "      <th>1</th>\n",
       "      <td>85422</td>\n",
       "      <td>2018-01-31 16:13:34.351</td>\n",
       "      <td>2018-02-01 15:57:17.310</td>\n",
       "      <td>15.0</td>\n",
       "      <td>San Francisco Ferry Building (Harry Bridges Pl...</td>\n",
       "      <td>37.795392</td>\n",
       "      <td>-122.394203</td>\n",
       "      <td>15.0</td>\n",
       "      <td>San Francisco Ferry Building (Harry Bridges Pl...</td>\n",
       "      <td>37.795392</td>\n",
       "      <td>-122.394203</td>\n",
       "      <td>2815</td>\n",
       "      <td>Customer</td>\n",
       "      <td>NaN</td>\n",
       "      <td>NaN</td>\n",
       "      <td>No</td>\n",
       "      <td>January</td>\n",
       "      <td>1</td>\n",
       "      <td>Wed</td>\n",
       "      <td>16</td>\n",
       "    </tr>\n",
       "    <tr>\n",
       "      <th>2</th>\n",
       "      <td>71576</td>\n",
       "      <td>2018-01-31 14:23:55.889</td>\n",
       "      <td>2018-02-01 10:16:52.116</td>\n",
       "      <td>304.0</td>\n",
       "      <td>Jackson St at 5th St</td>\n",
       "      <td>37.348759</td>\n",
       "      <td>-121.894798</td>\n",
       "      <td>296.0</td>\n",
       "      <td>5th St at Virginia St</td>\n",
       "      <td>37.325998</td>\n",
       "      <td>-121.877120</td>\n",
       "      <td>3039</td>\n",
       "      <td>Customer</td>\n",
       "      <td>1996.0</td>\n",
       "      <td>Male</td>\n",
       "      <td>No</td>\n",
       "      <td>January</td>\n",
       "      <td>1</td>\n",
       "      <td>Wed</td>\n",
       "      <td>14</td>\n",
       "    </tr>\n",
       "    <tr>\n",
       "      <th>3</th>\n",
       "      <td>61076</td>\n",
       "      <td>2018-01-31 14:53:23.562</td>\n",
       "      <td>2018-02-01 07:51:20.500</td>\n",
       "      <td>75.0</td>\n",
       "      <td>Market St at Franklin St</td>\n",
       "      <td>37.773793</td>\n",
       "      <td>-122.421239</td>\n",
       "      <td>47.0</td>\n",
       "      <td>4th St at Harrison St</td>\n",
       "      <td>37.780955</td>\n",
       "      <td>-122.399749</td>\n",
       "      <td>321</td>\n",
       "      <td>Customer</td>\n",
       "      <td>NaN</td>\n",
       "      <td>NaN</td>\n",
       "      <td>No</td>\n",
       "      <td>January</td>\n",
       "      <td>1</td>\n",
       "      <td>Wed</td>\n",
       "      <td>14</td>\n",
       "    </tr>\n",
       "    <tr>\n",
       "      <th>4</th>\n",
       "      <td>39966</td>\n",
       "      <td>2018-01-31 19:52:24.667</td>\n",
       "      <td>2018-02-01 06:58:31.053</td>\n",
       "      <td>74.0</td>\n",
       "      <td>Laguna St at Hayes St</td>\n",
       "      <td>37.776435</td>\n",
       "      <td>-122.426244</td>\n",
       "      <td>19.0</td>\n",
       "      <td>Post St at Kearny St</td>\n",
       "      <td>37.788975</td>\n",
       "      <td>-122.403452</td>\n",
       "      <td>617</td>\n",
       "      <td>Subscriber</td>\n",
       "      <td>1991.0</td>\n",
       "      <td>Male</td>\n",
       "      <td>No</td>\n",
       "      <td>January</td>\n",
       "      <td>1</td>\n",
       "      <td>Wed</td>\n",
       "      <td>19</td>\n",
       "    </tr>\n",
       "  </tbody>\n",
       "</table>\n",
       "</div>"
      ],
      "text/plain": [
       "   duration_sec              start_time                end_time  \\\n",
       "0         75284 2018-01-31 22:52:35.239 2018-02-01 19:47:19.824   \n",
       "1         85422 2018-01-31 16:13:34.351 2018-02-01 15:57:17.310   \n",
       "2         71576 2018-01-31 14:23:55.889 2018-02-01 10:16:52.116   \n",
       "3         61076 2018-01-31 14:53:23.562 2018-02-01 07:51:20.500   \n",
       "4         39966 2018-01-31 19:52:24.667 2018-02-01 06:58:31.053   \n",
       "\n",
       "  start_station_id                                 start_station_name  \\\n",
       "0            120.0                               Mission Dolores Park   \n",
       "1             15.0  San Francisco Ferry Building (Harry Bridges Pl...   \n",
       "2            304.0                               Jackson St at 5th St   \n",
       "3             75.0                           Market St at Franklin St   \n",
       "4             74.0                              Laguna St at Hayes St   \n",
       "\n",
       "   start_station_latitude  start_station_longitude end_station_id  \\\n",
       "0               37.761420              -122.426435          285.0   \n",
       "1               37.795392              -122.394203           15.0   \n",
       "2               37.348759              -121.894798          296.0   \n",
       "3               37.773793              -122.421239           47.0   \n",
       "4               37.776435              -122.426244           19.0   \n",
       "\n",
       "                                    end_station_name  end_station_latitude  \\\n",
       "0                         Webster St at O'Farrell St             37.783521   \n",
       "1  San Francisco Ferry Building (Harry Bridges Pl...             37.795392   \n",
       "2                              5th St at Virginia St             37.325998   \n",
       "3                              4th St at Harrison St             37.780955   \n",
       "4                               Post St at Kearny St             37.788975   \n",
       "\n",
       "   end_station_longitude bike_id   user_type  member_birth_year member_gender  \\\n",
       "0            -122.431158    2765  Subscriber             1986.0          Male   \n",
       "1            -122.394203    2815    Customer                NaN           NaN   \n",
       "2            -121.877120    3039    Customer             1996.0          Male   \n",
       "3            -122.399749     321    Customer                NaN           NaN   \n",
       "4            -122.403452     617  Subscriber             1991.0          Male   \n",
       "\n",
       "  bike_share_for_all_trip start_time_month_name  start_time_month  \\\n",
       "0                      No               January                 1   \n",
       "1                      No               January                 1   \n",
       "2                      No               January                 1   \n",
       "3                      No               January                 1   \n",
       "4                      No               January                 1   \n",
       "\n",
       "  start_time_weekday  start_time_hour  \n",
       "0                Wed               22  \n",
       "1                Wed               16  \n",
       "2                Wed               14  \n",
       "3                Wed               14  \n",
       "4                Wed               19  "
      ]
     },
     "execution_count": 22,
     "metadata": {},
     "output_type": "execute_result"
    }
   ],
   "source": [
    "ford_df_clean.head()"
   ]
  },
  {
   "cell_type": "markdown",
   "metadata": {
    "slideshow": {
     "slide_type": "skip"
    }
   },
   "source": [
    "#### Define"
   ]
  },
  {
   "cell_type": "markdown",
   "metadata": {
    "slideshow": {
     "slide_type": "skip"
    }
   },
   "source": [
    "###### Member birthdates have a few inaccurate values(dates prior to 1900)-these rows to be removed"
   ]
  },
  {
   "cell_type": "markdown",
   "metadata": {
    "slideshow": {
     "slide_type": "skip"
    }
   },
   "source": [
    "#### Code"
   ]
  },
  {
   "cell_type": "code",
   "execution_count": 23,
   "metadata": {
    "slideshow": {
     "slide_type": "skip"
    }
   },
   "outputs": [
    {
     "data": {
      "text/plain": [
       "31"
      ]
     },
     "execution_count": 23,
     "metadata": {},
     "output_type": "execute_result"
    }
   ],
   "source": [
    "ford_df_clean[ford_df_clean.member_birth_year<1900.0].shape[0]"
   ]
  },
  {
   "cell_type": "code",
   "execution_count": 24,
   "metadata": {
    "slideshow": {
     "slide_type": "skip"
    }
   },
   "outputs": [],
   "source": [
    "ford_df_clean=ford_df_clean[~(ford_df_clean.member_birth_year<1900.0)]"
   ]
  },
  {
   "cell_type": "markdown",
   "metadata": {
    "slideshow": {
     "slide_type": "skip"
    }
   },
   "source": [
    "#### Test"
   ]
  },
  {
   "cell_type": "code",
   "execution_count": 25,
   "metadata": {
    "slideshow": {
     "slide_type": "skip"
    }
   },
   "outputs": [
    {
     "data": {
      "text/html": [
       "<div>\n",
       "<style scoped>\n",
       "    .dataframe tbody tr th:only-of-type {\n",
       "        vertical-align: middle;\n",
       "    }\n",
       "\n",
       "    .dataframe tbody tr th {\n",
       "        vertical-align: top;\n",
       "    }\n",
       "\n",
       "    .dataframe thead th {\n",
       "        text-align: right;\n",
       "    }\n",
       "</style>\n",
       "<table border=\"1\" class=\"dataframe\">\n",
       "  <thead>\n",
       "    <tr style=\"text-align: right;\">\n",
       "      <th></th>\n",
       "      <th>duration_sec</th>\n",
       "      <th>start_time</th>\n",
       "      <th>end_time</th>\n",
       "      <th>start_station_id</th>\n",
       "      <th>start_station_name</th>\n",
       "      <th>start_station_latitude</th>\n",
       "      <th>start_station_longitude</th>\n",
       "      <th>end_station_id</th>\n",
       "      <th>end_station_name</th>\n",
       "      <th>end_station_latitude</th>\n",
       "      <th>end_station_longitude</th>\n",
       "      <th>bike_id</th>\n",
       "      <th>user_type</th>\n",
       "      <th>member_birth_year</th>\n",
       "      <th>member_gender</th>\n",
       "      <th>bike_share_for_all_trip</th>\n",
       "      <th>start_time_month_name</th>\n",
       "      <th>start_time_month</th>\n",
       "      <th>start_time_weekday</th>\n",
       "      <th>start_time_hour</th>\n",
       "    </tr>\n",
       "  </thead>\n",
       "  <tbody>\n",
       "  </tbody>\n",
       "</table>\n",
       "</div>"
      ],
      "text/plain": [
       "Empty DataFrame\n",
       "Columns: [duration_sec, start_time, end_time, start_station_id, start_station_name, start_station_latitude, start_station_longitude, end_station_id, end_station_name, end_station_latitude, end_station_longitude, bike_id, user_type, member_birth_year, member_gender, bike_share_for_all_trip, start_time_month_name, start_time_month, start_time_weekday, start_time_hour]\n",
       "Index: []"
      ]
     },
     "execution_count": 25,
     "metadata": {},
     "output_type": "execute_result"
    }
   ],
   "source": [
    "ford_df_clean[ford_df_clean.member_birth_year<1900.0]"
   ]
  },
  {
   "cell_type": "markdown",
   "metadata": {
    "slideshow": {
     "slide_type": "skip"
    }
   },
   "source": [
    "#### Define\n"
   ]
  },
  {
   "cell_type": "markdown",
   "metadata": {
    "slideshow": {
     "slide_type": "skip"
    }
   },
   "source": [
    "Create a new column for age of each user"
   ]
  },
  {
   "cell_type": "markdown",
   "metadata": {
    "slideshow": {
     "slide_type": "skip"
    }
   },
   "source": [
    "#### Code"
   ]
  },
  {
   "cell_type": "code",
   "execution_count": 26,
   "metadata": {
    "slideshow": {
     "slide_type": "skip"
    }
   },
   "outputs": [],
   "source": [
    "ford_df_clean['age']=(2019.0-ford_df_clean.member_birth_year)\n"
   ]
  },
  {
   "cell_type": "code",
   "execution_count": 27,
   "metadata": {
    "slideshow": {
     "slide_type": "skip"
    }
   },
   "outputs": [
    {
     "data": {
      "text/html": [
       "<div>\n",
       "<style scoped>\n",
       "    .dataframe tbody tr th:only-of-type {\n",
       "        vertical-align: middle;\n",
       "    }\n",
       "\n",
       "    .dataframe tbody tr th {\n",
       "        vertical-align: top;\n",
       "    }\n",
       "\n",
       "    .dataframe thead th {\n",
       "        text-align: right;\n",
       "    }\n",
       "</style>\n",
       "<table border=\"1\" class=\"dataframe\">\n",
       "  <thead>\n",
       "    <tr style=\"text-align: right;\">\n",
       "      <th></th>\n",
       "      <th>age</th>\n",
       "      <th>member_birth_year</th>\n",
       "    </tr>\n",
       "  </thead>\n",
       "  <tbody>\n",
       "    <tr>\n",
       "      <th>0</th>\n",
       "      <td>33.0</td>\n",
       "      <td>1986.0</td>\n",
       "    </tr>\n",
       "    <tr>\n",
       "      <th>1</th>\n",
       "      <td>NaN</td>\n",
       "      <td>NaN</td>\n",
       "    </tr>\n",
       "    <tr>\n",
       "      <th>2</th>\n",
       "      <td>23.0</td>\n",
       "      <td>1996.0</td>\n",
       "    </tr>\n",
       "    <tr>\n",
       "      <th>3</th>\n",
       "      <td>NaN</td>\n",
       "      <td>NaN</td>\n",
       "    </tr>\n",
       "    <tr>\n",
       "      <th>4</th>\n",
       "      <td>28.0</td>\n",
       "      <td>1991.0</td>\n",
       "    </tr>\n",
       "  </tbody>\n",
       "</table>\n",
       "</div>"
      ],
      "text/plain": [
       "    age  member_birth_year\n",
       "0  33.0             1986.0\n",
       "1   NaN                NaN\n",
       "2  23.0             1996.0\n",
       "3   NaN                NaN\n",
       "4  28.0             1991.0"
      ]
     },
     "execution_count": 27,
     "metadata": {},
     "output_type": "execute_result"
    }
   ],
   "source": [
    "ford_df_clean[['age','member_birth_year']].head()"
   ]
  },
  {
   "cell_type": "code",
   "execution_count": 28,
   "metadata": {
    "slideshow": {
     "slide_type": "skip"
    }
   },
   "outputs": [
    {
     "data": {
      "text/plain": [
       "35.74765605436869"
      ]
     },
     "execution_count": 28,
     "metadata": {},
     "output_type": "execute_result"
    }
   ],
   "source": [
    "ford_df_clean.age.mean()"
   ]
  },
  {
   "cell_type": "code",
   "execution_count": 29,
   "metadata": {
    "slideshow": {
     "slide_type": "skip"
    }
   },
   "outputs": [
    {
     "data": {
      "text/plain": [
       "count    1.825021e+06\n",
       "mean     3.574766e+01\n",
       "std      1.038350e+01\n",
       "min      1.800000e+01\n",
       "50%      3.300000e+01\n",
       "95%      5.600000e+01\n",
       "max      1.190000e+02\n",
       "Name: age, dtype: float64"
      ]
     },
     "execution_count": 29,
     "metadata": {},
     "output_type": "execute_result"
    }
   ],
   "source": [
    "ford_df_clean.age.describe(percentiles=[.95])"
   ]
  },
  {
   "cell_type": "markdown",
   "metadata": {
    "slideshow": {
     "slide_type": "skip"
    }
   },
   "source": [
    "#### Define"
   ]
  },
  {
   "cell_type": "markdown",
   "metadata": {
    "slideshow": {
     "slide_type": "skip"
    }
   },
   "source": [
    "Remove age outliers, as 95% of the the members age are below 56, removing age>60,"
   ]
  },
  {
   "cell_type": "markdown",
   "metadata": {
    "slideshow": {
     "slide_type": "skip"
    }
   },
   "source": [
    "#### Code"
   ]
  },
  {
   "cell_type": "code",
   "execution_count": 30,
   "metadata": {
    "slideshow": {
     "slide_type": "skip"
    }
   },
   "outputs": [],
   "source": [
    "ford_df_clean=ford_df_clean.query('age<60')"
   ]
  },
  {
   "cell_type": "markdown",
   "metadata": {
    "slideshow": {
     "slide_type": "skip"
    }
   },
   "source": [
    "#### Test"
   ]
  },
  {
   "cell_type": "code",
   "execution_count": 31,
   "metadata": {
    "slideshow": {
     "slide_type": "skip"
    }
   },
   "outputs": [
    {
     "data": {
      "text/html": [
       "<div>\n",
       "<style scoped>\n",
       "    .dataframe tbody tr th:only-of-type {\n",
       "        vertical-align: middle;\n",
       "    }\n",
       "\n",
       "    .dataframe tbody tr th {\n",
       "        vertical-align: top;\n",
       "    }\n",
       "\n",
       "    .dataframe thead th {\n",
       "        text-align: right;\n",
       "    }\n",
       "</style>\n",
       "<table border=\"1\" class=\"dataframe\">\n",
       "  <thead>\n",
       "    <tr style=\"text-align: right;\">\n",
       "      <th></th>\n",
       "      <th>duration_sec</th>\n",
       "      <th>start_time</th>\n",
       "      <th>end_time</th>\n",
       "      <th>start_station_id</th>\n",
       "      <th>start_station_name</th>\n",
       "      <th>start_station_latitude</th>\n",
       "      <th>start_station_longitude</th>\n",
       "      <th>end_station_id</th>\n",
       "      <th>end_station_name</th>\n",
       "      <th>end_station_latitude</th>\n",
       "      <th>...</th>\n",
       "      <th>bike_id</th>\n",
       "      <th>user_type</th>\n",
       "      <th>member_birth_year</th>\n",
       "      <th>member_gender</th>\n",
       "      <th>bike_share_for_all_trip</th>\n",
       "      <th>start_time_month_name</th>\n",
       "      <th>start_time_month</th>\n",
       "      <th>start_time_weekday</th>\n",
       "      <th>start_time_hour</th>\n",
       "      <th>age</th>\n",
       "    </tr>\n",
       "  </thead>\n",
       "  <tbody>\n",
       "  </tbody>\n",
       "</table>\n",
       "<p>0 rows × 21 columns</p>\n",
       "</div>"
      ],
      "text/plain": [
       "Empty DataFrame\n",
       "Columns: [duration_sec, start_time, end_time, start_station_id, start_station_name, start_station_latitude, start_station_longitude, end_station_id, end_station_name, end_station_latitude, end_station_longitude, bike_id, user_type, member_birth_year, member_gender, bike_share_for_all_trip, start_time_month_name, start_time_month, start_time_weekday, start_time_hour, age]\n",
       "Index: []\n",
       "\n",
       "[0 rows x 21 columns]"
      ]
     },
     "execution_count": 31,
     "metadata": {},
     "output_type": "execute_result"
    }
   ],
   "source": [
    "ford_df_clean[ford_df_clean.age>60]"
   ]
  },
  {
   "cell_type": "markdown",
   "metadata": {
    "slideshow": {
     "slide_type": "skip"
    }
   },
   "source": [
    "#### Define\n",
    "\n",
    "Create a new column for seasons."
   ]
  },
  {
   "cell_type": "markdown",
   "metadata": {
    "slideshow": {
     "slide_type": "skip"
    }
   },
   "source": [
    "#### Code"
   ]
  },
  {
   "cell_type": "code",
   "execution_count": 32,
   "metadata": {
    "slideshow": {
     "slide_type": "skip"
    }
   },
   "outputs": [],
   "source": [
    "def seasons(x):\n",
    "    if x in [3,4,5]:\n",
    "        return \"spring\"\n",
    "    elif x in [6,7,8]:\n",
    "        return \"summer\"\n",
    "    elif x in [9,10,11]:\n",
    "        return \"fall\"\n",
    "    elif x in [12,1,2]:\n",
    "        return \"winter\"\n",
    "    else:\n",
    "        return \"NaN\"\n",
    "    \n",
    "\n",
    "ford_df_clean['season']=ford_df_clean.start_time_month.apply(seasons)"
   ]
  },
  {
   "cell_type": "markdown",
   "metadata": {
    "slideshow": {
     "slide_type": "skip"
    }
   },
   "source": [
    "#### Test"
   ]
  },
  {
   "cell_type": "code",
   "execution_count": 33,
   "metadata": {
    "slideshow": {
     "slide_type": "skip"
    }
   },
   "outputs": [
    {
     "data": {
      "text/html": [
       "<div>\n",
       "<style scoped>\n",
       "    .dataframe tbody tr th:only-of-type {\n",
       "        vertical-align: middle;\n",
       "    }\n",
       "\n",
       "    .dataframe tbody tr th {\n",
       "        vertical-align: top;\n",
       "    }\n",
       "\n",
       "    .dataframe thead th {\n",
       "        text-align: right;\n",
       "    }\n",
       "</style>\n",
       "<table border=\"1\" class=\"dataframe\">\n",
       "  <thead>\n",
       "    <tr style=\"text-align: right;\">\n",
       "      <th></th>\n",
       "      <th>season</th>\n",
       "      <th>start_time_month</th>\n",
       "    </tr>\n",
       "  </thead>\n",
       "  <tbody>\n",
       "    <tr>\n",
       "      <th>1168965</th>\n",
       "      <td>fall</td>\n",
       "      <td>9</td>\n",
       "    </tr>\n",
       "    <tr>\n",
       "      <th>934078</th>\n",
       "      <td>summer</td>\n",
       "      <td>8</td>\n",
       "    </tr>\n",
       "    <tr>\n",
       "      <th>320639</th>\n",
       "      <td>spring</td>\n",
       "      <td>4</td>\n",
       "    </tr>\n",
       "    <tr>\n",
       "      <th>1340313</th>\n",
       "      <td>fall</td>\n",
       "      <td>10</td>\n",
       "    </tr>\n",
       "    <tr>\n",
       "      <th>828670</th>\n",
       "      <td>summer</td>\n",
       "      <td>7</td>\n",
       "    </tr>\n",
       "    <tr>\n",
       "      <th>925296</th>\n",
       "      <td>summer</td>\n",
       "      <td>8</td>\n",
       "    </tr>\n",
       "    <tr>\n",
       "      <th>1674952</th>\n",
       "      <td>winter</td>\n",
       "      <td>12</td>\n",
       "    </tr>\n",
       "    <tr>\n",
       "      <th>324167</th>\n",
       "      <td>spring</td>\n",
       "      <td>4</td>\n",
       "    </tr>\n",
       "    <tr>\n",
       "      <th>1025320</th>\n",
       "      <td>summer</td>\n",
       "      <td>8</td>\n",
       "    </tr>\n",
       "    <tr>\n",
       "      <th>1553500</th>\n",
       "      <td>fall</td>\n",
       "      <td>11</td>\n",
       "    </tr>\n",
       "  </tbody>\n",
       "</table>\n",
       "</div>"
      ],
      "text/plain": [
       "         season  start_time_month\n",
       "1168965    fall                 9\n",
       "934078   summer                 8\n",
       "320639   spring                 4\n",
       "1340313    fall                10\n",
       "828670   summer                 7\n",
       "925296   summer                 8\n",
       "1674952  winter                12\n",
       "324167   spring                 4\n",
       "1025320  summer                 8\n",
       "1553500    fall                11"
      ]
     },
     "execution_count": 33,
     "metadata": {},
     "output_type": "execute_result"
    }
   ],
   "source": [
    "ford_df_clean[['season','start_time_month']].sample(10)"
   ]
  },
  {
   "cell_type": "markdown",
   "metadata": {
    "slideshow": {
     "slide_type": "skip"
    }
   },
   "source": [
    "#### Define\n",
    "\n",
    "Convert duration in sec to duration in min"
   ]
  },
  {
   "cell_type": "markdown",
   "metadata": {
    "slideshow": {
     "slide_type": "skip"
    }
   },
   "source": [
    "#### Code"
   ]
  },
  {
   "cell_type": "code",
   "execution_count": 34,
   "metadata": {
    "slideshow": {
     "slide_type": "skip"
    }
   },
   "outputs": [],
   "source": [
    "ford_df_clean['duration_min']=ford_df_clean['duration_sec']/60\n"
   ]
  },
  {
   "cell_type": "markdown",
   "metadata": {
    "slideshow": {
     "slide_type": "skip"
    }
   },
   "source": [
    "#### Test"
   ]
  },
  {
   "cell_type": "code",
   "execution_count": 35,
   "metadata": {
    "slideshow": {
     "slide_type": "skip"
    }
   },
   "outputs": [
    {
     "data": {
      "text/html": [
       "<div>\n",
       "<style scoped>\n",
       "    .dataframe tbody tr th:only-of-type {\n",
       "        vertical-align: middle;\n",
       "    }\n",
       "\n",
       "    .dataframe tbody tr th {\n",
       "        vertical-align: top;\n",
       "    }\n",
       "\n",
       "    .dataframe thead th {\n",
       "        text-align: right;\n",
       "    }\n",
       "</style>\n",
       "<table border=\"1\" class=\"dataframe\">\n",
       "  <thead>\n",
       "    <tr style=\"text-align: right;\">\n",
       "      <th></th>\n",
       "      <th>duration_sec</th>\n",
       "      <th>duration_min</th>\n",
       "    </tr>\n",
       "  </thead>\n",
       "  <tbody>\n",
       "    <tr>\n",
       "      <th>1912295</th>\n",
       "      <td>4032</td>\n",
       "      <td>67.200000</td>\n",
       "    </tr>\n",
       "    <tr>\n",
       "      <th>1639639</th>\n",
       "      <td>313</td>\n",
       "      <td>5.216667</td>\n",
       "    </tr>\n",
       "    <tr>\n",
       "      <th>1020821</th>\n",
       "      <td>153</td>\n",
       "      <td>2.550000</td>\n",
       "    </tr>\n",
       "    <tr>\n",
       "      <th>1871229</th>\n",
       "      <td>590</td>\n",
       "      <td>9.833333</td>\n",
       "    </tr>\n",
       "    <tr>\n",
       "      <th>1091909</th>\n",
       "      <td>1096</td>\n",
       "      <td>18.266667</td>\n",
       "    </tr>\n",
       "  </tbody>\n",
       "</table>\n",
       "</div>"
      ],
      "text/plain": [
       "         duration_sec  duration_min\n",
       "1912295          4032     67.200000\n",
       "1639639           313      5.216667\n",
       "1020821           153      2.550000\n",
       "1871229           590      9.833333\n",
       "1091909          1096     18.266667"
      ]
     },
     "execution_count": 35,
     "metadata": {},
     "output_type": "execute_result"
    }
   ],
   "source": [
    "ford_df_clean[['duration_sec','duration_min']].sample(5)"
   ]
  },
  {
   "cell_type": "markdown",
   "metadata": {
    "slideshow": {
     "slide_type": "skip"
    }
   },
   "source": [
    "#### Store the cleaned dataset"
   ]
  },
  {
   "cell_type": "code",
   "execution_count": 36,
   "metadata": {
    "slideshow": {
     "slide_type": "skip"
    }
   },
   "outputs": [],
   "source": [
    "# save cleaned data \n",
    "ford_df_clean.to_csv('ford_clean.csv', index=False)"
   ]
  },
  {
   "cell_type": "markdown",
   "metadata": {
    "slideshow": {
     "slide_type": "skip"
    }
   },
   "source": [
    "## What is the structure of your Dataset?\n",
    "\n"
   ]
  },
  {
   "cell_type": "markdown",
   "metadata": {
    "slideshow": {
     "slide_type": "skip"
    }
   },
   "source": [
    "The FordGoBike dataset is formed by collecting data from January 2018 through April 15, 2019. There were approximately 1,850,000 bike rides in the San Francisco Bay area of California, USA documented.\n",
    "\n",
    "The dataset contains following features:\n",
    "\n",
    "1.trip duration: start/end time, how long the trip took in seconds\n",
    "\n",
    "2.stations: start/end station, name, geolocation (latitude/longitude)\n",
    "\n",
    "3.anonymized customer data: gender, birth date and user type\n",
    "\n",
    "4.rented bikes: bike id\n",
    "\n",
    "Additional columns were added,such as:\n",
    "\n",
    "5.rental time: month, day, hour of the day, weekday (both for start and end date)\n",
    "\n",
    "6.customer: age\n",
    "\n",
    "7.season:start_month is categorized to annual seasons\n"
   ]
  },
  {
   "cell_type": "markdown",
   "metadata": {
    "slideshow": {
     "slide_type": "skip"
    }
   },
   "source": [
    "## What is/are the main feature(s) of interest in your dataset?"
   ]
  },
  {
   "cell_type": "markdown",
   "metadata": {
    "slideshow": {
     "slide_type": "skip"
    }
   },
   "source": [
    "I am interested in figuring out the factors which influence the bike trips and trip duration such as, rental time, which gender  avails bike service the most and age group aswell.Also, interested in knowing trends about customers and subscribers."
   ]
  },
  {
   "cell_type": "markdown",
   "metadata": {
    "slideshow": {
     "slide_type": "skip"
    }
   },
   "source": [
    "## What features in the dataset do you think will help support your investigation into your feature(s) of interest?"
   ]
  },
  {
   "cell_type": "markdown",
   "metadata": {
    "slideshow": {
     "slide_type": "skip"
    }
   },
   "source": [
    "-Duration\n",
    "\n",
    "-start_time_hour,weekday,month\n",
    "\n",
    "-member_gender\n",
    "\n",
    "-season\n",
    "\n",
    "-member_age\n",
    "\n",
    "-user_type"
   ]
  },
  {
   "cell_type": "markdown",
   "metadata": {
    "slideshow": {
     "slide_type": "skip"
    }
   },
   "source": [
    "## Univariate Exploration\n",
    "\n",
    "In this section, distribution of individual variables are being explored."
   ]
  },
  {
   "cell_type": "markdown",
   "metadata": {
    "slideshow": {
     "slide_type": "skip"
    }
   },
   "source": [
    "Starting with start_time :hour ,month and weekday.Exploring features related to rental time;\n",
    "\n",
    "categorizing months into seasons"
   ]
  },
  {
   "cell_type": "markdown",
   "metadata": {
    "slideshow": {
     "slide_type": "skip"
    }
   },
   "source": [
    "#### Distribution of seasons"
   ]
  },
  {
   "cell_type": "code",
   "execution_count": 37,
   "metadata": {
    "slideshow": {
     "slide_type": "skip"
    }
   },
   "outputs": [
    {
     "data": {
      "image/png": "[encoded data removed]",
      "text/plain": [
       "<Figure size 504x360 with 1 Axes>"
      ]
     },
     "metadata": {},
     "output_type": "display_data"
    }
   ],
   "source": [
    "plt.figure(figsize=[7,5])\n",
    "base_color=sb.color_palette()[0]\n",
    "season_order=ford_df_clean['season'].value_counts().index\n",
    "sb.countplot(data=ford_df_clean,x='season',color=base_color,order=season_order);\n",
    "plt.title(\"Distribution of season\");\n"
   ]
  },
  {
   "cell_type": "markdown",
   "metadata": {
    "slideshow": {
     "slide_type": "skip"
    }
   },
   "source": [
    "**The Frequency distribution of seasons shows that, maximum number of bike trips happens in Summer season and moderately lower number in fall and the lowest in winter and spring seasons.**"
   ]
  },
  {
   "cell_type": "markdown",
   "metadata": {
    "slideshow": {
     "slide_type": "slide"
    }
   },
   "source": [
    "### Following are the key takeaways:"
   ]
  },
  {
   "cell_type": "markdown",
   "metadata": {
    "slideshow": {
     "slide_type": "slide"
    }
   },
   "source": [
    "### Which day of the week records for the maximum bike rides"
   ]
  },
  {
   "cell_type": "code",
   "execution_count": 38,
   "metadata": {
    "slideshow": {
     "slide_type": "skip"
    }
   },
   "outputs": [
    {
     "data": {
      "text/plain": [
       "Wed    307579\n",
       "Thu    307494\n",
       "Tue    305808\n",
       "Mon    283594\n",
       "Fri    275203\n",
       "Sat    156064\n",
       "Sun    135262\n",
       "Name: start_time_weekday, dtype: int64"
      ]
     },
     "execution_count": 38,
     "metadata": {},
     "output_type": "execute_result"
    }
   ],
   "source": [
    "ford_df_clean.start_time_weekday.value_counts()"
   ]
  },
  {
   "cell_type": "markdown",
   "metadata": {
    "slideshow": {
     "slide_type": "subslide"
    }
   },
   "source": [
    "The maximum number of bike trips is recorded on Wednesdays,however, there is  marginal difference with thursdays and tuesdays.\n",
    "Alos, weekends records the lowest number of bike trips. Probably due to non-working days."
   ]
  },
  {
   "cell_type": "code",
   "execution_count": 39,
   "metadata": {
    "slideshow": {
     "slide_type": "subslide"
    }
   },
   "outputs": [
    {
     "data": {
      "image/png": "[encoded data removed]",
      "text/plain": [
       "<Figure size 841.68x595.44 with 1 Axes>"
      ]
     },
     "metadata": {},
     "output_type": "display_data"
    }
   ],
   "source": [
    "plt.figure(figsize=[ 11.69, 8.27])\n",
    "weekday = ['Mon', 'Tue', 'Wed', 'Thu', 'Fri', 'Sat', 'Sun']\n",
    "sb.countplot(data=ford_df_clean,x='start_time_weekday',color=base_color,order=weekday);\n",
    "plt.xlabel(\"Weekdays\")\n",
    "plt.ylabel(\"Number of Bike Trips\")\n",
    "plt.title('Weekly trip record');\n",
    "plt.grid(True)"
   ]
  },
  {
   "cell_type": "markdown",
   "metadata": {
    "slideshow": {
     "slide_type": "skip"
    }
   },
   "source": [
    "**The maximum number of bike trips is recorded on Wednesdays,however, there is  marginal difference with thursdays and tuesdays.\n",
    "Alos, weekends records the lowest number of bike trips. Probably due to non-working days.**"
   ]
  },
  {
   "cell_type": "markdown",
   "metadata": {
    "slideshow": {
     "slide_type": "slide"
    }
   },
   "source": [
    "### During what time of the day bike rides are recorded most"
   ]
  },
  {
   "cell_type": "markdown",
   "metadata": {
    "slideshow": {
     "slide_type": "subslide"
    }
   },
   "source": [
    "The maximum percentage of trips occurs during peak(working) hours of 8am and also at around 5pm Could be because that's when people get to and back from the work.Its a bimodal distribution"
   ]
  },
  {
   "cell_type": "code",
   "execution_count": 40,
   "metadata": {
    "slideshow": {
     "slide_type": "skip"
    }
   },
   "outputs": [
    {
     "data": {
      "text/plain": [
       "17    212929\n",
       "8     203633\n",
       "18    165809\n",
       "9     155711\n",
       "16    135364\n",
       "19    100095\n",
       "7      99754\n",
       "15     88301\n",
       "12     81667\n",
       "13     78833\n",
       "10     77654\n",
       "14     74636\n",
       "11     71817\n",
       "20     64411\n",
       "21     45520\n",
       "6      34938\n",
       "22     29772\n",
       "23     17846\n",
       "0       9748\n",
       "5       9371\n",
       "1       5652\n",
       "2       3472\n",
       "4       2054\n",
       "3       2017\n",
       "Name: start_time_hour, dtype: int64"
      ]
     },
     "execution_count": 40,
     "metadata": {},
     "output_type": "execute_result"
    }
   ],
   "source": [
    "ford_df_clean.start_time_hour.value_counts()"
   ]
  },
  {
   "cell_type": "code",
   "execution_count": 41,
   "metadata": {
    "slideshow": {
     "slide_type": "skip"
    }
   },
   "outputs": [],
   "source": [
    "#get proportion\n",
    "n_points=ford_df_clean.shape[0]\n",
    "max_count=ford_df_clean['start_time_hour'].value_counts().max()\n",
    "max_prop=max_count/n_points"
   ]
  },
  {
   "cell_type": "code",
   "execution_count": 42,
   "metadata": {
    "slideshow": {
     "slide_type": "skip"
    }
   },
   "outputs": [],
   "source": [
    "#generate tick mark locations and names\n",
    "\n",
    "tick_props=np.arange(0,max_prop,0.01)\n",
    "tick_names=['{:0.2f}'.format(v) for v in tick_props]"
   ]
  },
  {
   "cell_type": "code",
   "execution_count": 43,
   "metadata": {
    "slideshow": {
     "slide_type": "subslide"
    }
   },
   "outputs": [
    {
     "data": {
      "image/png": "[encoded data removed]",
      "text/plain": [
       "<Figure size 648x360 with 1 Axes>"
      ]
     },
     "metadata": {},
     "output_type": "display_data"
    }
   ],
   "source": [
    "# hourly usage of the bike sharing systems\n",
    "plt.figure(figsize=[ 11.69, 8.27])\n",
    "sb.countplot(data=ford_df_clean,x='start_time_hour',color=base_color)\n",
    "plt.yticks(tick_props*n_points,tick_names)\n",
    "plt.ylabel('proportion')\n",
    "plt.xlabel('Hours');\n",
    "plt.title(\"Proportions of trips for hours\");"
   ]
  },
  {
   "cell_type": "markdown",
   "metadata": {
    "slideshow": {
     "slide_type": "skip"
    }
   },
   "source": [
    "**Graph is a bimodal distribution with the maximum percentage of trips occuring during peak(working) hours of 8am and also at around 5pm Could be because that's when people get to and back from the work.**\n"
   ]
  },
  {
   "cell_type": "markdown",
   "metadata": {
    "slideshow": {
     "slide_type": "skip"
    }
   },
   "source": [
    "#### Frequency distribution of Duration(min)"
   ]
  },
  {
   "cell_type": "code",
   "execution_count": 44,
   "metadata": {
    "slideshow": {
     "slide_type": "skip"
    }
   },
   "outputs": [
    {
     "data": {
      "text/plain": [
       "count    1.771004e+06\n",
       "mean     1.278873e+01\n",
       "std      3.175064e+01\n",
       "min      1.016667e+00\n",
       "25%      5.716667e+00\n",
       "50%      9.000000e+00\n",
       "75%      1.391667e+01\n",
       "max      1.438017e+03\n",
       "Name: duration_min, dtype: float64"
      ]
     },
     "execution_count": 44,
     "metadata": {},
     "output_type": "execute_result"
    }
   ],
   "source": [
    "ford_df_clean.duration_min.describe()"
   ]
  },
  {
   "cell_type": "code",
   "execution_count": 45,
   "metadata": {
    "slideshow": {
     "slide_type": "skip"
    }
   },
   "outputs": [
    {
     "data": {
      "image/png": "[encoded data removed]",
      "text/plain": [
       "<Figure size 648x360 with 1 Axes>"
      ]
     },
     "metadata": {},
     "output_type": "display_data"
    }
   ],
   "source": [
    "# Duration of the bike rides -in MINUTES\n",
    "bin_edges = np.arange(0, 45, 1)\n",
    "ticks = [0, 5, 10, 15, 20, 25, 30,  35, 40, 45]\n",
    "labels = ['{}'.format(val) for val in ticks]\n",
    "\n",
    "plt.figure(figsize=[9,5])\n",
    "plt.hist(data = ford_df_clean, x = 'duration_min', bins = bin_edges, rwidth = 0.6);\n",
    "plt.title(\"Trip Duration in Minutes\", y=1.05, fontsize=16, fontweight='bold')\n",
    "plt.xlabel('Duration (Min)')\n",
    "plt.xticks(ticks, labels)\n",
    "plt.ylabel('Number of Bike Trips');"
   ]
  },
  {
   "cell_type": "markdown",
   "metadata": {
    "slideshow": {
     "slide_type": "skip"
    }
   },
   "source": [
    "**It shows a Right skewed distribution, on an average,trips were of short duration of 5 to 10 mins with 75% of trips being under 14 minutes.This suggests the majority of bikers avail for short duration trips.**"
   ]
  },
  {
   "cell_type": "markdown",
   "metadata": {
    "slideshow": {
     "slide_type": "slide"
    }
   },
   "source": [
    "### What percentage of users are Male,Female and Others"
   ]
  },
  {
   "cell_type": "markdown",
   "metadata": {
    "slideshow": {
     "slide_type": "subslide"
    }
   },
   "source": [
    "\n",
    "The Donut Plot below demonstrates the majority of users of the bike share system are male, representing 73.3% of the total users, female by 25.2% and other by 1.6%."
   ]
  },
  {
   "cell_type": "code",
   "execution_count": 46,
   "metadata": {
    "slideshow": {
     "slide_type": "skip"
    }
   },
   "outputs": [
    {
     "data": {
      "text/plain": [
       "Male      0.732255\n",
       "Female    0.251668\n",
       "Other     0.016077\n",
       "Name: member_gender, dtype: float64"
      ]
     },
     "execution_count": 46,
     "metadata": {},
     "output_type": "execute_result"
    }
   ],
   "source": [
    "# Usage by females, males, and other\n",
    "gender = ford_df_clean.member_gender.value_counts()/n_points\n",
    "gender"
   ]
  },
  {
   "cell_type": "code",
   "execution_count": 49,
   "metadata": {
    "slideshow": {
     "slide_type": "subslide"
    }
   },
   "outputs": [
    {
     "data": {
      "image/png": "[encoded data removed]",
      "text/plain": [
       "<Figure size 432x288 with 1 Axes>"
      ]
     },
     "metadata": {},
     "output_type": "display_data"
    },
    {
     "data": {
      "text/plain": [
       "<Figure size 841.68x595.44 with 0 Axes>"
      ]
     },
     "metadata": {},
     "output_type": "display_data"
    }
   ],
   "source": [
    "plt.pie(gender,labels=gender.index, autopct='%1.1f%%',startangle=90,counterclock=False,wedgeprops={'width':0.4});\n",
    "plt.axis('square');\n",
    "plt.title('Bike User by Gender', y=1.05, fontsize=11, fontweight='bold');\n",
    "plt.figure(figsize=[ 11.69, 8.27]);"
   ]
  },
  {
   "cell_type": "markdown",
   "metadata": {
    "slideshow": {
     "slide_type": "skip"
    }
   },
   "source": [
    "**The Donut Plot above demonstrates the majority of users of the bike share system are male, representing 73.3% of the total users, female by 25.2% and other by 1.6%.**"
   ]
  },
  {
   "cell_type": "markdown",
   "metadata": {
    "slideshow": {
     "slide_type": "skip"
    }
   },
   "source": [
    "### #bike trips based on age groups"
   ]
  },
  {
   "cell_type": "code",
   "execution_count": 50,
   "metadata": {
    "slideshow": {
     "slide_type": "skip"
    }
   },
   "outputs": [
    {
     "data": {
      "text/plain": [
       "(59.0, 34.82841427800276)"
      ]
     },
     "execution_count": 50,
     "metadata": {},
     "output_type": "execute_result"
    }
   ],
   "source": [
    "ford_df_clean.age.max(),ford_df_clean.age.mean()"
   ]
  },
  {
   "cell_type": "code",
   "execution_count": 51,
   "metadata": {
    "slideshow": {
     "slide_type": "skip"
    }
   },
   "outputs": [
    {
     "data": {
      "image/png": "[encoded data removed]",
      "text/plain": [
       "<Figure size 432x288 with 1 Axes>"
      ]
     },
     "metadata": {},
     "output_type": "display_data"
    }
   ],
   "source": [
    "# Age group data\n",
    "bin_edges = np.arange(0, 60, 5)\n",
    "\n",
    "plt.hist(data = ford_df_clean, x = 'age', bins = bin_edges);\n",
    "\n",
    "plt.title(\"Bike User by Age\", y=1.05, fontsize=16)\n",
    "plt.xlabel('Age of Members (Years)')\n",
    "plt.ylabel('Number of Bike Trips');\n",
    "plt.grid(True)"
   ]
  },
  {
   "cell_type": "markdown",
   "metadata": {
    "slideshow": {
     "slide_type": "skip"
    }
   },
   "source": [
    "**Considering age group upto 60 years,\n",
    "The histogram shows the majority of bike users fall between the ages of 25 - 40 years, which is also the same age range of the working adults. **"
   ]
  },
  {
   "cell_type": "markdown",
   "metadata": {
    "slideshow": {
     "slide_type": "slide"
    }
   },
   "source": [
    "### Illustrate the proportions of Users based on Subscription type"
   ]
  },
  {
   "cell_type": "markdown",
   "metadata": {
    "slideshow": {
     "slide_type": "subslide"
    }
   },
   "source": [
    "The Majority of the Bike Users are subscribers. Users with a monthly membership (\"Subscriber type\") make 88% of all customers in FY 2018 that used the system. 12% were casual riders (\"Customer type\") using the bike share system ocasionally.\n",
    "\n"
   ]
  },
  {
   "cell_type": "code",
   "execution_count": 52,
   "metadata": {
    "slideshow": {
     "slide_type": "subslide"
    }
   },
   "outputs": [
    {
     "data": {
      "image/png": "[encoded data removed]",
      "text/plain": [
       "<Figure size 841.68x595.44 with 2 Axes>"
      ]
     },
     "metadata": {},
     "output_type": "display_data"
    }
   ],
   "source": [
    "plt.figure(figsize=[ 11.69, 8.27])\n",
    "plt.subplot(1,2,1)\n",
    "sb.countplot(data = ford_df_clean, x = 'user_type', color = base_color);\n",
    "\n",
    "plt.subplot(1,2,2);\n",
    "\n",
    "labels = ['Subscriber', 'customer']\n",
    "plt.pie(ford_df_clean.user_type.value_counts(), autopct='%1.1f%%',labels=labels, shadow=True, startangle=90);\n",
    "\n",
    "plt.axis('square');\n",
    "plt.title(\"Percentage share of Bike ride based on user_type\");"
   ]
  },
  {
   "cell_type": "markdown",
   "metadata": {
    "slideshow": {
     "slide_type": "skip"
    }
   },
   "source": [
    "**Majority of the Bike Users are subscribers. Users with a monthly membership (\"Subscriber type\") make 88% of all customers in FY 2018 that used the system. 12% were casual riders (\"Customer type\") using the bike share system ocasionally."
   ]
  },
  {
   "cell_type": "markdown",
   "metadata": {
    "slideshow": {
     "slide_type": "skip"
    }
   },
   "source": [
    "### Discuss the distribution(s) of your variable(s) of interest. Were there any unusual points? Did you need to perform any transformations?\n",
    "\n",
    "There was one unusal points for the duration (sec), which in some cases lasted more than 24h. For the histogram I set the max range to 3600 sec = 60 min."
   ]
  },
  {
   "cell_type": "markdown",
   "metadata": {
    "slideshow": {
     "slide_type": "skip"
    }
   },
   "source": [
    "### Of the features you investigated, were there any unusual distributions? Did you perform any operations on the data to tidy, adjust, or change the form of the data? If so, why did you do this?"
   ]
  },
  {
   "cell_type": "markdown",
   "metadata": {
    "slideshow": {
     "slide_type": "skip"
    }
   },
   "source": [
    "There was one unusal distribution for the member birth year, which in some cases was dated before 1900. Since 95% of the members are between 17 and 57 years, I removed users older than 60."
   ]
  },
  {
   "cell_type": "markdown",
   "metadata": {
    "slideshow": {
     "slide_type": "skip"
    }
   },
   "source": [
    "### Bivariate Exploration"
   ]
  },
  {
   "cell_type": "markdown",
   "metadata": {
    "slideshow": {
     "slide_type": "skip"
    }
   },
   "source": [
    "Main focus here is on exploring User_type and its relationship with other features."
   ]
  },
  {
   "cell_type": "markdown",
   "metadata": {
    "slideshow": {
     "slide_type": "slide"
    }
   },
   "source": [
    "### Depict the proportions of User type based on Gender"
   ]
  },
  {
   "cell_type": "markdown",
   "metadata": {
    "slideshow": {
     "slide_type": "subslide"
    }
   },
   "source": [
    "The majority of Subscribers are Male with thrice the number of Female Subscribers.The same trend is seen in the customer riders as well.Suggesting irrespective of User_type, Male bikers are more than Female bikers and others.\n",
    "\n"
   ]
  },
  {
   "cell_type": "code",
   "execution_count": 53,
   "metadata": {
    "slideshow": {
     "slide_type": "skip"
    }
   },
   "outputs": [],
   "source": [
    "ct_counts=ford_df_clean.groupby(['member_gender','user_type']).size().reset_index(name='count')"
   ]
  },
  {
   "cell_type": "code",
   "execution_count": 54,
   "metadata": {
    "slideshow": {
     "slide_type": "skip"
    }
   },
   "outputs": [
    {
     "data": {
      "text/html": [
       "<div>\n",
       "<style scoped>\n",
       "    .dataframe tbody tr th:only-of-type {\n",
       "        vertical-align: middle;\n",
       "    }\n",
       "\n",
       "    .dataframe tbody tr th {\n",
       "        vertical-align: top;\n",
       "    }\n",
       "\n",
       "    .dataframe thead th {\n",
       "        text-align: right;\n",
       "    }\n",
       "</style>\n",
       "<table border=\"1\" class=\"dataframe\">\n",
       "  <thead>\n",
       "    <tr style=\"text-align: right;\">\n",
       "      <th>user_type</th>\n",
       "      <th>Customer</th>\n",
       "      <th>Subscriber</th>\n",
       "    </tr>\n",
       "    <tr>\n",
       "      <th>member_gender</th>\n",
       "      <th></th>\n",
       "      <th></th>\n",
       "    </tr>\n",
       "  </thead>\n",
       "  <tbody>\n",
       "    <tr>\n",
       "      <th>Female</th>\n",
       "      <td>63798</td>\n",
       "      <td>381907</td>\n",
       "    </tr>\n",
       "    <tr>\n",
       "      <th>Male</th>\n",
       "      <td>136731</td>\n",
       "      <td>1160095</td>\n",
       "    </tr>\n",
       "    <tr>\n",
       "      <th>Other</th>\n",
       "      <td>4205</td>\n",
       "      <td>24268</td>\n",
       "    </tr>\n",
       "  </tbody>\n",
       "</table>\n",
       "</div>"
      ],
      "text/plain": [
       "user_type      Customer  Subscriber\n",
       "member_gender                      \n",
       "Female            63798      381907\n",
       "Male             136731     1160095\n",
       "Other              4205       24268"
      ]
     },
     "execution_count": 54,
     "metadata": {},
     "output_type": "execute_result"
    }
   ],
   "source": [
    "#rearrange the data\n",
    "visu=ct_counts.pivot(index='member_gender',columns='user_type',values='count')\n",
    "visu"
   ]
  },
  {
   "cell_type": "code",
   "execution_count": 56,
   "metadata": {
    "slideshow": {
     "slide_type": "subslide"
    }
   },
   "outputs": [
    {
     "data": {
      "image/png": "[encoded data removed]",
      "text/plain": [
       "<Figure size 841.68x595.44 with 2 Axes>"
      ]
     },
     "metadata": {},
     "output_type": "display_data"
    }
   ],
   "source": [
    "plt.figure(figsize=[ 11.69, 8.27])\n",
    "sb.heatmap(visu,annot=True,fmt='d');\n",
    "plt.title('user_type vs member_gender',fontsize=16,y=1.05);\n",
    "plt.xlabel('user_type',fontsize=12)\n",
    "plt.ylabel('member_gender',fontsize=12);\n"
   ]
  },
  {
   "cell_type": "markdown",
   "metadata": {
    "slideshow": {
     "slide_type": "skip"
    }
   },
   "source": [
    "**The majority of Subscribers are Male with thrice the number of Female Subscribers.The same trend is seen in the customer riders as well.Suggesting irrespective of User_type, Male bikers are more than Female bikers and others.**"
   ]
  },
  {
   "cell_type": "markdown",
   "metadata": {
    "slideshow": {
     "slide_type": "skip"
    }
   },
   "source": [
    "#### User_type vs Season"
   ]
  },
  {
   "cell_type": "code",
   "execution_count": 57,
   "metadata": {
    "slideshow": {
     "slide_type": "skip"
    }
   },
   "outputs": [],
   "source": [
    "#convert season column to category\n",
    "season=['winter','spring','summer','fall']\n",
    "seasclasses=pd.api.types.CategoricalDtype(ordered=True,categories=season)\n",
    "ford_df_clean['season']=ford_df_clean['season'].astype(seasclasses)"
   ]
  },
  {
   "cell_type": "code",
   "execution_count": 58,
   "metadata": {
    "slideshow": {
     "slide_type": "skip"
    }
   },
   "outputs": [
    {
     "data": {
      "text/plain": [
       "duration_sec                        int64\n",
       "start_time                 datetime64[ns]\n",
       "end_time                   datetime64[ns]\n",
       "start_station_id                   object\n",
       "start_station_name                 object\n",
       "start_station_latitude            float64\n",
       "start_station_longitude           float64\n",
       "end_station_id                     object\n",
       "end_station_name                   object\n",
       "end_station_latitude              float64\n",
       "end_station_longitude             float64\n",
       "bike_id                            object\n",
       "user_type                        category\n",
       "member_birth_year                 float64\n",
       "member_gender                    category\n",
       "bike_share_for_all_trip          category\n",
       "start_time_month_name              object\n",
       "start_time_month                    int32\n",
       "start_time_weekday                 object\n",
       "start_time_hour                     int64\n",
       "age                               float64\n",
       "season                           category\n",
       "duration_min                      float64\n",
       "dtype: object"
      ]
     },
     "execution_count": 58,
     "metadata": {},
     "output_type": "execute_result"
    }
   ],
   "source": [
    "ford_df_clean.dtypes"
   ]
  },
  {
   "cell_type": "code",
   "execution_count": 60,
   "metadata": {
    "slideshow": {
     "slide_type": "skip"
    }
   },
   "outputs": [
    {
     "data": {
      "image/png": "[encoded data removed]",
      "text/plain": [
       "<Figure size 841.68x595.44 with 1 Axes>"
      ]
     },
     "metadata": {},
     "output_type": "display_data"
    }
   ],
   "source": [
    "#Plotting\n",
    "plt.figure(figsize=[ 11.69, 8.27])\n",
    "ax=sb.countplot(data=ford_df_clean,x='season',hue='user_type')\n",
    "ax.legend(loc=4,framealpha=1)\n",
    "plt.xticks(rotation=15)\n",
    "plt.title(\"Season vs usertype\",fontsize=15);"
   ]
  },
  {
   "cell_type": "markdown",
   "metadata": {
    "slideshow": {
     "slide_type": "skip"
    }
   },
   "source": [
    "**As expected, the graph showsthat the  Summer season sees the maximum bike Subscribers when compared to other seasons.Number of Occasional bikers(customers) are more or less the same across all seasons and the Customer number being relatively negligible when compared to Subscribers.**"
   ]
  },
  {
   "cell_type": "markdown",
   "metadata": {
    "slideshow": {
     "slide_type": "slide"
    }
   },
   "source": [
    "### Represent the length of Duration per User type"
   ]
  },
  {
   "cell_type": "markdown",
   "metadata": {
    "slideshow": {
     "slide_type": "subslide"
    }
   },
   "source": [
    "There is a difference in the trip duration between customers and subscribers. Customers typically have trip durations are longer than for subscribers.This can probably be explained by the fact that subscribers are mainly commuters who take short trips to work/school rather than longer trips around the Bay Area."
   ]
  },
  {
   "cell_type": "code",
   "execution_count": 61,
   "metadata": {
    "slideshow": {
     "slide_type": "skip"
    }
   },
   "outputs": [
    {
     "name": "stderr",
     "output_type": "stream",
     "text": [
      "C:\\Users\\deeps\\Anaconda3\\lib\\site-packages\\pandas\\core\\indexing.py:1472: FutureWarning: \n",
      "Passing list-likes to .loc or [] with any missing label will raise\n",
      "KeyError in the future, you can use .reindex() as an alternative.\n",
      "\n",
      "See the documentation here:\n",
      "https://pandas.pydata.org/pandas-docs/stable/indexing.html#deprecate-loc-reindex-listlike\n",
      "  return self._getitem_tuple(key)\n"
     ]
    }
   ],
   "source": [
    "# scatter plot of duration_min vs. member_age, with log transform on duration_min axis\n",
    "samples = np.random.choice(ford_df_clean.shape[0], 5000, replace = False)\n",
    "samp = ford_df_clean.loc[samples,:]\n"
   ]
  },
  {
   "cell_type": "code",
   "execution_count": 63,
   "metadata": {
    "slideshow": {
     "slide_type": "subslide"
    }
   },
   "outputs": [
    {
     "data": {
      "image/png": "[encoded data removed]",
      "text/plain": [
       "<Figure size 841.68x595.44 with 1 Axes>"
      ]
     },
     "metadata": {},
     "output_type": "display_data"
    }
   ],
   "source": [
    "plt.figure(figsize=[ 11.69, 8.27])\n",
    "sb.violinplot(data = samp, x = 'user_type', y = 'duration_min',color=base_color);\n",
    "plt.xlabel('User type',fontsize=12);\n",
    "plt.yscale('log');\n",
    "plt.yticks([1, 2, 5, 10, 20, 50, 100], [1, 2, 5, 10, 20, 50, 100]);\n",
    "plt.ylabel('Duration (min)',fontsize=12);\n",
    "plt.title(\"Duration vs User type\",fontsize=15);\n",
    "plt.grid(True)"
   ]
  },
  {
   "cell_type": "markdown",
   "metadata": {
    "slideshow": {
     "slide_type": "skip"
    }
   },
   "source": [
    "**There is a difference in the trip duration between customers and subscribers.\n",
    "Customers typically have trip durations are longer than for subscribers.This can probably be explained by the fact that subscribers are mainly commuters who take short trips to work/school rather than longer trips around the Bay Area.**"
   ]
  },
  {
   "cell_type": "markdown",
   "metadata": {
    "slideshow": {
     "slide_type": "slide"
    }
   },
   "source": [
    "####  What are the Weekdays Trends by User Type"
   ]
  },
  {
   "cell_type": "markdown",
   "metadata": {
    "slideshow": {
     "slide_type": "subslide"
    }
   },
   "source": [
    "There is a sharp contrast between Customers and Subscribers. Customers have a relatively low usage of the bike share system with a small increase on the weekends, indicates majority of customers are non-working crowd .On the contrary,Subscribers have steadily high usage on weekdays, with a sharp decline on the weekends."
   ]
  },
  {
   "cell_type": "code",
   "execution_count": 64,
   "metadata": {
    "slideshow": {
     "slide_type": "subslide"
    }
   },
   "outputs": [
    {
     "data": {
      "image/png": "[encoded data removed]",
      "text/plain": [
       "<Figure size 841.68x595.44 with 1 Axes>"
      ]
     },
     "metadata": {},
     "output_type": "display_data"
    }
   ],
   "source": [
    "# Customer Usage by Weekday vs. Subscriber Usage by Weekday\n",
    "plt.figure(figsize=[ 11.69, 8.27])\n",
    "ford_df_clean_user_week = ford_df_clean.groupby(['start_time_weekday', 'user_type']).size().reset_index()\n",
    "weekday = ['Mon', 'Tue', 'Wed', 'Thu', 'Fri', 'Sat', 'Sun']\n",
    "\n",
    "ax = sb.pointplot(data=ford_df_clean_user_week, x='start_time_weekday', y=0, hue = 'user_type', scale=.7, order = weekday);\n",
    "\n",
    "plt.title('Ford GoBike System Weekday Trends by User Type', y=1.05, fontsize=16)\n",
    "plt.xlabel('Weekdays')\n",
    "plt.ylabel('Number of Bike Trips');\n",
    "plt.grid()"
   ]
  },
  {
   "cell_type": "code",
   "execution_count": 65,
   "metadata": {
    "slideshow": {
     "slide_type": "skip"
    }
   },
   "outputs": [
    {
     "data": {
      "text/plain": [
       "start_time_weekday           Wed\n",
       "user_type             Subscriber\n",
       "0                         279985\n",
       "dtype: object"
      ]
     },
     "execution_count": 65,
     "metadata": {},
     "output_type": "execute_result"
    }
   ],
   "source": [
    "ford_df_clean_user_week.max()"
   ]
  },
  {
   "cell_type": "markdown",
   "metadata": {
    "slideshow": {
     "slide_type": "skip"
    }
   },
   "source": [
    "**There is a sharp contrast between Customers and Subscribers. Customers have a relatively low usage of the bike share system with a small increase on the weekends, indicates majority of customers are non-working crowd .On the contrary,Subscribers have steadily high usage on weekdays, with a sharp decline on the weekends.**"
   ]
  },
  {
   "cell_type": "markdown",
   "metadata": {
    "slideshow": {
     "slide_type": "skip"
    }
   },
   "source": [
    "#### Start_time_hour vs user_type"
   ]
  },
  {
   "cell_type": "code",
   "execution_count": 66,
   "metadata": {
    "slideshow": {
     "slide_type": "skip"
    }
   },
   "outputs": [
    {
     "data": {
      "image/png": "[encoded data removed]",
      "text/plain": [
       "<Figure size 841.68x595.44 with 1 Axes>"
      ]
     },
     "metadata": {},
     "output_type": "display_data"
    }
   ],
   "source": [
    "plt.figure(figsize=[ 11.69, 8.27])\n",
    "sb.countplot(data = ford_df_clean, x = 'start_time_hour', hue = 'user_type', palette = 'Blues');\n",
    "ax.legend(loc = 1, ncol = 2);\n",
    "plt.title(\"Start_time_hour vs User_type\");"
   ]
  },
  {
   "cell_type": "markdown",
   "metadata": {
    "slideshow": {
     "slide_type": "skip"
    }
   },
   "source": [
    "**Bimodal distribution depicts that,8.00AM and 5:00 PM have the most Subscribers compared to other hours.\n",
    "User_type doesn't impact much on start_time_hour as the above distribution is same as univariate distribution of 'start_time_hour'.**"
   ]
  },
  {
   "cell_type": "markdown",
   "metadata": {
    "slideshow": {
     "slide_type": "skip"
    }
   },
   "source": [
    "#### Talk about some of the relationships you observed in this part of the investigation. How did the feature(s) of interest vary with other features in the dataset?"
   ]
  },
  {
   "cell_type": "markdown",
   "metadata": {
    "slideshow": {
     "slide_type": "skip"
    }
   },
   "source": [
    "Adding the user type to the analysis revealed different behavior usage between customers and subscribers. The data suggests that customers are casual riders such as tourists, or students on a school vacation or holiday. This is accurate when factoring in that Customer usage increases on the weekends,making longer trips. In contrast, the data suggests Subscribers are daily commuters or full time students who use the system during weekdays, better weather, and mostly for shorter distances. They mainly rent bikes before and after a typical work or school day (8-9am and 5-6pm)."
   ]
  },
  {
   "cell_type": "markdown",
   "metadata": {
    "slideshow": {
     "slide_type": "skip"
    }
   },
   "source": [
    "#### Did you observe any interesting relationships between the other features (not the main feature(s) of interest)?¶\n",
    "There is a difference in the trip duration between customers and subscribers. Customers trips are usually longer than subscribers, most probably due to the fact they prefer bike rides around weekends in summertime, which may be for longer trips around the surrounding area. Subscribers use the system mainly for commute purposes so they prefer quick, short rides to and from work.\n"
   ]
  },
  {
   "cell_type": "markdown",
   "metadata": {
    "slideshow": {
     "slide_type": "skip"
    }
   },
   "source": [
    "## Multivariate Exploration\n",
    "\n",
    "\n",
    "I created plots of three or more variables to investigate the Ford Go Bike data even further.\n",
    "\n"
   ]
  },
  {
   "cell_type": "code",
   "execution_count": 67,
   "metadata": {
    "slideshow": {
     "slide_type": "skip"
    }
   },
   "outputs": [
    {
     "data": {
      "text/plain": [
       "count    1.771004e+06\n",
       "mean     3.482841e+01\n",
       "std      8.947861e+00\n",
       "min      1.800000e+01\n",
       "25%      2.800000e+01\n",
       "50%      3.300000e+01\n",
       "75%      4.000000e+01\n",
       "max      5.900000e+01\n",
       "Name: age, dtype: float64"
      ]
     },
     "execution_count": 67,
     "metadata": {},
     "output_type": "execute_result"
    }
   ],
   "source": [
    "ford_df_clean.age.describe()"
   ]
  },
  {
   "cell_type": "code",
   "execution_count": 68,
   "metadata": {
    "slideshow": {
     "slide_type": "skip"
    }
   },
   "outputs": [],
   "source": [
    "#create a new column for age groups.\n",
    "age_labels=['15-25','26-35','36-45','46-55','56-66']\n",
    "bin_edges=[15,25,35,45,55,65]\n",
    "ford_df_clean['age_group']=pd.cut(ford_df_clean.age,bin_edges,labels=age_labels)\n"
   ]
  },
  {
   "cell_type": "markdown",
   "metadata": {
    "slideshow": {
     "slide_type": "slide"
    }
   },
   "source": [
    "###  Relationship between Duration_min, User_type for different age_groups and member_gender"
   ]
  },
  {
   "cell_type": "markdown",
   "metadata": {
    "slideshow": {
     "slide_type": "subslide"
    }
   },
   "source": [
    "The trend shows,females take longer trips (measured in time) than males and other. The difference is more visible for customers (~13 min for males and other vs ~15 for females) than for subscribers (the difference is quite small). Also, the older age people (mostly retired) make long trips and short trips by young adults\n",
    "\n"
   ]
  },
  {
   "cell_type": "code",
   "execution_count": 69,
   "metadata": {
    "slideshow": {
     "slide_type": "subslide"
    }
   },
   "outputs": [
    {
     "name": "stderr",
     "output_type": "stream",
     "text": [
      "C:\\Users\\deeps\\Anaconda3\\lib\\site-packages\\seaborn\\axisgrid.py:703: UserWarning: Using the barplot function without specifying `order` is likely to produce an incorrect plot.\n",
      "  warnings.warn(warning)\n"
     ]
    },
    {
     "data": {
      "image/png": "[encoded data removed]",
      "text/plain": [
       "<Figure size 1080x648 with 15 Axes>"
      ]
     },
     "metadata": {},
     "output_type": "display_data"
    }
   ],
   "source": [
    "g=sb.FacetGrid(data=ford_df_clean,col='age_group',row='member_gender',margin_titles=True);\n",
    "g.map(sb.barplot,'user_type','duration_min');\n",
    "plt.yscale('log')\n",
    "plt.yticks([1, 2, 5, 10, 20, 50, 100], [1, 2, 5, 10, 20, 50, 100]);\n",
    "plt.ylabel('Duration (min)',fontsize=12);\n",
    "#plt.title(\"Duration vs User type\",fontsize=15);"
   ]
  },
  {
   "cell_type": "markdown",
   "metadata": {
    "slideshow": {
     "slide_type": "skip"
    }
   },
   "source": [
    "\n",
    "**The trend shows,females take longer trips (measured in time) than males and other. The difference is more visible for customers (~13 min for males and other vs ~15 for females) than for subscribers (the difference is quite small).\n",
    "Also, the older age people (mostly retired) make long trips and short trips by young adults**\n",
    "\n"
   ]
  },
  {
   "cell_type": "markdown",
   "metadata": {
    "slideshow": {
     "slide_type": "slide"
    }
   },
   "source": [
    "### Explore Daily and weekly usage by User types"
   ]
  },
  {
   "cell_type": "markdown",
   "metadata": {
    "slideshow": {
     "slide_type": "subslide"
    }
   },
   "source": [
    "**Customers use the bike sharing system more often on weekends:**\n",
    "\n",
    "weekdays: most bike rides happen around 8-9am and 5-6pm with the peak on Fridays around 5pm\n",
    "\n",
    "weekends: most bike rides happen between 10am - 8pm with the peak on Saturdays around 2pm\n",
    "\n",
    "**Subscribers use the bike sharing system mainly on weekdays:**\n",
    "\n",
    "weekdays: most bike rides happen around 8-9am and 5-6pm with the peak on Tuesdays around 8am\n",
    "\n",
    "weekends: bikes are still rented but there is a significant drop in numbers of rented bikes throughout the entire weekends"
   ]
  },
  {
   "cell_type": "code",
   "execution_count": 70,
   "metadata": {
    "slideshow": {
     "slide_type": "subslide"
    }
   },
   "outputs": [
    {
     "data": {
      "image/png": "[encoded data removed]",
      "text/plain": [
       "<Figure size 841.68x595.44 with 4 Axes>"
      ]
     },
     "metadata": {},
     "output_type": "display_data"
    }
   ],
   "source": [
    "# Setting the weekday order\n",
    "ford_df_clean['start_time_weekday'] = pd.Categorical(ford_df_clean['start_time_weekday'], \n",
    "                                                categories=['Mon','Tue','Wed','Thu','Fri','Sat', 'Sun'], \n",
    "                                                ordered=True)\n",
    "plt.figure(figsize=[ 11.69, 8.27])\n",
    "plt.suptitle('Hourly usage during the weekday for customers and subscribers', fontsize=14, fontweight='semibold')\n",
    "\n",
    "# heatmap for customers\n",
    "plt.subplot(1, 2, 1)\n",
    "df_customer = ford_df_clean.query('user_type == \"Customer\"').groupby([\"start_time_hour\", \"start_time_weekday\"])[\"bike_id\"].size().reset_index()\n",
    "df_customer = df_customer.pivot(\"start_time_hour\", \"start_time_weekday\", \"bike_id\")\n",
    "sb.heatmap(df_customer,cmap=\"BuPu\")\n",
    "\n",
    "plt.title(\"Customer\", y=1.015)\n",
    "plt.xlabel('Weekday')\n",
    "plt.ylabel('Start Time Hour')\n",
    "\n",
    "# heatmap for subscribers\n",
    "plt.subplot(1, 2, 2)\n",
    "df_subscriber = ford_df_clean.query('user_type == \"Subscriber\"').groupby([\"start_time_hour\", \"start_time_weekday\"])[\"bike_id\"].size().reset_index()\n",
    "df_subscriber = df_subscriber.pivot(\"start_time_hour\", \"start_time_weekday\", \"bike_id\")\n",
    "sb.heatmap(df_subscriber,cmap=\"BuPu\")\n",
    "plt.title(\"Subscriber\", y=1.015)\n",
    "plt.xlabel('Weekday')\n",
    "plt.ylabel('');"
   ]
  },
  {
   "cell_type": "markdown",
   "metadata": {
    "slideshow": {
     "slide_type": "skip"
    }
   },
   "source": [
    "\n",
    "**Customers use the bike sharing system more often on weekends:**\n",
    "\n",
    "weekdays: most bike rides happen around 8-9am and 5-6pm with the peak on Fridays around 5pm\n",
    "\n",
    "weekends: most bike rides happen between 10am - 8pm with the peak on Saturdays around 2pm\n",
    "\n",
    "**Subscribers use the bike sharing system mainly on weekdays:**\n",
    "\n",
    "weekdays: most bike rides happen around 8-9am and 5-6pm with the peak on Tuesdays around 8am\n",
    "\n",
    "weekends: bikes are still rented but there is a significant drop in numbers of rented bikes throughout the entire weekends"
   ]
  },
  {
   "cell_type": "markdown",
   "metadata": {
    "slideshow": {
     "slide_type": "skip"
    }
   },
   "source": [
    "### Hourly usage of the bike share system per user type and gender"
   ]
  },
  {
   "cell_type": "code",
   "execution_count": 71,
   "metadata": {
    "slideshow": {
     "slide_type": "skip"
    }
   },
   "outputs": [
    {
     "data": {
      "image/png": "[encoded data removed]",
      "text/plain": [
       "<Figure size 841.68x595.44 with 2 Axes>"
      ]
     },
     "metadata": {},
     "output_type": "display_data"
    }
   ],
   "source": [
    "plt.figure(figsize=[ 11.69, 8.27])\n",
    "plt.suptitle('Hourly usage of the bike share system per user type and gender', fontsize=14, fontweight='semibold')\n",
    "\n",
    "\n",
    "# clustered barplots for customers\n",
    "plt.subplot(1, 2, 1)\n",
    "df_customer=ford_df_clean.query('user_type==\"Customer\"')\n",
    "sb.countplot(data=df_customer,x='start_time_hour',hue='member_gender')\n",
    "plt.title(\"Customer\", y=1.015);\n",
    "\n",
    "\n",
    "plt.subplot(1,2,2)\n",
    "df_subscriber=ford_df_clean.query('user_type==\"Subscriber\"')\n",
    "sb.countplot(data=df_subscriber,x='start_time_hour',hue='member_gender')\n",
    "plt.title(\"Subscriber\", y=1.015);\n"
   ]
  },
  {
   "cell_type": "markdown",
   "metadata": {
    "slideshow": {
     "slide_type": "skip"
    }
   },
   "source": [
    "**During the day, both males and females use the system the same way: customers use bikes mainly between 8 am - 7 pm; subscribers on the other side use the system at around 8-9am and 5-6pm when they go and come back from work.**"
   ]
  },
  {
   "cell_type": "markdown",
   "metadata": {
    "slideshow": {
     "slide_type": "skip"
    }
   },
   "source": [
    "### weekly usage by customers and subscribers for different Genders"
   ]
  },
  {
   "cell_type": "code",
   "execution_count": 72,
   "metadata": {
    "slideshow": {
     "slide_type": "skip"
    }
   },
   "outputs": [
    {
     "data": {
      "image/png": "[encoded data removed]",
      "text/plain": [
       "<Figure size 841.68x595.44 with 2 Axes>"
      ]
     },
     "metadata": {},
     "output_type": "display_data"
    }
   ],
   "source": [
    "plt.figure(figsize=[ 11.69, 8.27])\n",
    "plt.suptitle('weekly usage of the bike share system per user type and gender', fontsize=14, fontweight='semibold')\n",
    "\n",
    "\n",
    "# clustered barplots for customers\n",
    "plt.subplot(1, 2, 1)\n",
    "df_customer=ford_df_clean.query('user_type==\"Customer\"')\n",
    "sb.countplot(data=df_customer,x='start_time_weekday',hue='member_gender')\n",
    "plt.title(\"Customer\", y=1.015);\n",
    "\n",
    "\n",
    "plt.subplot(1,2,2)\n",
    "df_subscriber=ford_df_clean.query('user_type==\"Subscriber\"')\n",
    "sb.countplot(data=df_subscriber,x='start_time_weekday',hue='member_gender')\n",
    "plt.title(\"Subscriber\", y=1.015);\n"
   ]
  },
  {
   "cell_type": "markdown",
   "metadata": {
    "slideshow": {
     "slide_type": "skip"
    }
   },
   "source": [
    "**As in the previous section, the trend is very similar for males and females: customers use the system more often during weekends than within a week (although the jump in bike used on weekends is much higher for females than for males); subscribers use the system mainly within a week.**"
   ]
  },
  {
   "cell_type": "code",
   "execution_count": 142,
   "metadata": {
    "slideshow": {
     "slide_type": "skip"
    }
   },
   "outputs": [
    {
     "data": {
      "image/png": "[encoded data removed]",
      "text/plain": [
       "<Figure size 936x576 with 2 Axes>"
      ]
     },
     "metadata": {},
     "output_type": "display_data"
    }
   ],
   "source": [
    "plt.figure(figsize=(13,8))\n",
    "plt.suptitle('month wise usage of the bike share system per user type and gender', fontsize=14, fontweight='semibold')\n",
    "\n",
    "\n",
    "# clustered barplots for customers\n",
    "\n",
    "plt.subplot(1,2,1)\n",
    "sb.countplot(data=df_customer,x='start_time_month',hue='member_gender')\n",
    "plt.title(\"monthly-customer\");\n",
    "\n",
    "plt.subplot(1,2,2)\n",
    "sb.countplot(data=df_subscriber,x='start_time_month',hue='member_gender')\n",
    "plt.title(\"monthly-subscriber\");\n"
   ]
  },
  {
   "cell_type": "markdown",
   "metadata": {
    "slideshow": {
     "slide_type": "skip"
    }
   },
   "source": [
    "**Reproducing same plot but with start_time_month.\n",
    "The trend is very similar for males and females: **\n",
    "\n",
    "**for customers, the highest demand is around summertime, reaching its peak in July; as well as January**\n",
    "\n",
    "**for subscribers, the highest demand is in January,followed by May till October, reaching it's peak in October. Suprisingly,The trend also suggests that, female customers make use of the system more than female subscribers.**"
   ]
  },
  {
   "cell_type": "markdown",
   "metadata": {
    "slideshow": {
     "slide_type": "skip"
    }
   },
   "source": [
    "### Talk about some of the relationships you observed in this part of the investigation. Were there features that strengthened each other in terms of looking at your feature(s) of interest?\n",
    "\n",
    "1.Subscriber vs Customer age was expanded upon through the use of age groups.\n",
    "visuals based on age group showed ,young adults(25-40yrs) made short trips than elderly people(55-66yrs),who utilised bikes solely for long trips regardless of gender.\n",
    "\n",
    "2.Plotting a heatmap of when bikes are high in demand throughout the day on each weekday  shed light on the customers behaviour.\n",
    "\n",
    "3.Plotting #bike trips throughout the day and #bike trips within the weekdays separately gave the impression that the demand for bikes is quite high throughout the day with a peak around 5pm. The trend within weekdays for customers follows (although customers are rather not early birds) the one for subscribers who rent bikes mainly around commute hours (8-9am and 5-6pm). For customers, as depicted in univariate explorations, most of the trips happen on weekends but mainly between 10am - 8pm with the peak on Saturdays around 2pm, which was not previously visible."
   ]
  },
  {
   "cell_type": "markdown",
   "metadata": {
    "slideshow": {
     "slide_type": "skip"
    }
   },
   "source": [
    "### Were there any interesting or surprising interactions between features?\n",
    "With regard to difference in trends between gender,there are quite a lot of females using the system between January and March in comparison to males - the ratio (male:female) is much smaller than for the rest of the year. Moreover females take longer trips (measured in time) than males and others."
   ]
  },
  {
   "cell_type": "markdown",
   "metadata": {
    "slideshow": {
     "slide_type": "slide"
    }
   },
   "source": [
    "### Summary\n",
    "\n",
    "\n",
    "Renting bikes are done by two types of clients :**subscribers** who are mainly daily commuters, having short trips to and from work, who rent a bike on weekdays at 8-9am and 5-6pm, and, occasionally around the lunch time, and\n",
    "**customers**, usually tourists or occassional riders who use the system mainly on weekends to explore the Bay Area.\n",
    "With regard to Gender and age group ,Long trips are made by Females and older aged people."
   ]
  },
  {
   "cell_type": "code",
   "execution_count": null,
   "metadata": {
    "slideshow": {
     "slide_type": "skip"
    }
   },
   "outputs": [],
   "source": []
  }
 ],
 "metadata": {
  "celltoolbar": "Slideshow",
  "kernelspec": {
   "display_name": "Python 3",
   "language": "python",
   "name": "python3"
  },
  "language_info": {
   "codemirror_mode": {
    "name": "ipython",
    "version": 3
   },
   "file_extension": ".py",
   "mimetype": "text/x-python",
   "name": "python",
   "nbconvert_exporter": "python",
   "pygments_lexer": "ipython3",
   "version": "3.6.5"
  }
 },
 "nbformat": 4,
 "nbformat_minor": 2
}
